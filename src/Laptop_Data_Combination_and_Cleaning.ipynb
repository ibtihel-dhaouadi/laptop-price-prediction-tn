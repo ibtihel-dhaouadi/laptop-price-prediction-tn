{
 "cells": [
  {
   "cell_type": "markdown",
   "id": "dc636104",
   "metadata": {},
   "source": [
    "## 🧹 Laptop Market Data Cleaning and Combination\n",
    "This notebook combines and cleans scraped laptop data from multiple Tunisian e-commerce websites."
   ]
  },
  {
   "cell_type": "markdown",
   "id": "c5d4291c",
   "metadata": {},
   "source": [
    "### 📦 Step 1: Import Libraries"
   ]
  },
  {
   "cell_type": "code",
   "execution_count": 1,
   "id": "85809fde",
   "metadata": {},
   "outputs": [],
   "source": [
    "import pandas as pd\n",
    "import numpy as np\n",
    "import re\n",
    "import matplotlib.pyplot as plt\n",
    "import seaborn as sns\n"
   ]
  },
  {
   "cell_type": "markdown",
   "id": "2dcac710",
   "metadata": {},
   "source": [
    "### 📂 Step 2: Load Datasets"
   ]
  },
  {
   "cell_type": "code",
   "execution_count": 2,
   "id": "8e95f3c3",
   "metadata": {},
   "outputs": [],
   "source": [
    "base_url = \"C:/Users/HP/Desktop/laptop-price-prediction-tn-main/src/scrapping_beautifulsoup/scraped_data/\""
   ]
  },
  {
   "cell_type": "code",
   "execution_count": 3,
   "id": "8e9fc3ee",
   "metadata": {},
   "outputs": [],
   "source": [
    "agora_data = pd.read_csv(base_url+'agora_products.csv')\n",
    "batam_data = pd.read_csv(base_url+'batam_products.csv')\n",
    "graiet_data = pd.read_csv(base_url+'graiet_products.csv')\n",
    "mytek_data = pd.read_csv(base_url+'mytek_products.csv')\n",
    "spacenet_data = pd.read_csv(base_url+'spacenet_products.csv')\n",
    "tunisianet_data = pd.read_csv(base_url+'tunisianet_products.csv')"
   ]
  },
  {
   "cell_type": "code",
   "execution_count": 4,
   "id": "91c30f25",
   "metadata": {},
   "outputs": [],
   "source": [
    "new_columns_name = [\n",
    "    'reference', 'link', 'name', 'brand', 'image_url', 'store', 'screen_size', 'screen_resolution', 'processor',\n",
    "    'processor_reference', 'ram', 'disk_capacity', 'disk_type', 'gpu', 'os', 'gamer', 'price'\n",
    "]\n",
    "\n",
    "agora_data.columns = new_columns_name\n",
    "batam_data.columns = new_columns_name\n",
    "graiet_data.columns = new_columns_name\n",
    "mytek_data.columns = new_columns_name\n",
    "spacenet_data.columns = new_columns_name\n",
    "tunisianet_data.columns = new_columns_name"
   ]
  },
  {
   "cell_type": "code",
   "execution_count": 5,
   "id": "a1985296",
   "metadata": {},
   "outputs": [],
   "source": [
    "# List of dataframes\n",
    "dataframes = [agora_data, batam_data, graiet_data, mytek_data, spacenet_data, tunisianet_data]\n",
    "\n",
    "# Concatenate all dataframes vertically (along rows)\n",
    "combined_data = pd.concat(dataframes, ignore_index=True)\n"
   ]
  },
  {
   "cell_type": "markdown",
   "id": "950b96f1",
   "metadata": {},
   "source": [
    "### 🔍 Step 3: Explore Raw Data"
   ]
  },
  {
   "cell_type": "code",
   "execution_count": 6,
   "id": "1bcd79f1",
   "metadata": {},
   "outputs": [
    {
     "name": "stdout",
     "output_type": "stream",
     "text": [
      "<class 'pandas.core.frame.DataFrame'>\n",
      "RangeIndex: 4171 entries, 0 to 4170\n",
      "Data columns (total 17 columns):\n",
      " #   Column               Non-Null Count  Dtype \n",
      "---  ------               --------------  ----- \n",
      " 0   reference            4169 non-null   object\n",
      " 1   link                 4171 non-null   object\n",
      " 2   name                 4171 non-null   object\n",
      " 3   brand                3045 non-null   object\n",
      " 4   image_url            4171 non-null   object\n",
      " 5   store                4171 non-null   object\n",
      " 6   screen_size          4145 non-null   object\n",
      " 7   screen_resolution    1655 non-null   object\n",
      " 8   processor            4161 non-null   object\n",
      " 9   processor_reference  3616 non-null   object\n",
      " 10  ram                  4160 non-null   object\n",
      " 11  disk_capacity        4137 non-null   object\n",
      " 12  disk_type            1980 non-null   object\n",
      " 13  gpu                  4106 non-null   object\n",
      " 14  os                   4168 non-null   object\n",
      " 15  gamer                3370 non-null   object\n",
      " 16  price                4171 non-null   object\n",
      "dtypes: object(17)\n",
      "memory usage: 554.1+ KB\n"
     ]
    }
   ],
   "source": [
    "combined_data.info()"
   ]
  },
  {
   "cell_type": "code",
   "execution_count": 7,
   "id": "cef96318",
   "metadata": {},
   "outputs": [
    {
     "data": {
      "text/html": [
       "<div>\n",
       "<style scoped>\n",
       "    .dataframe tbody tr th:only-of-type {\n",
       "        vertical-align: middle;\n",
       "    }\n",
       "\n",
       "    .dataframe tbody tr th {\n",
       "        vertical-align: top;\n",
       "    }\n",
       "\n",
       "    .dataframe thead th {\n",
       "        text-align: right;\n",
       "    }\n",
       "</style>\n",
       "<table border=\"1\" class=\"dataframe\">\n",
       "  <thead>\n",
       "    <tr style=\"text-align: right;\">\n",
       "      <th></th>\n",
       "      <th>count</th>\n",
       "      <th>unique</th>\n",
       "      <th>top</th>\n",
       "      <th>freq</th>\n",
       "    </tr>\n",
       "  </thead>\n",
       "  <tbody>\n",
       "    <tr>\n",
       "      <th>reference</th>\n",
       "      <td>4169</td>\n",
       "      <td>2450</td>\n",
       "      <td>X1502VA-NJ257W</td>\n",
       "      <td>7</td>\n",
       "    </tr>\n",
       "    <tr>\n",
       "      <th>link</th>\n",
       "      <td>4171</td>\n",
       "      <td>3055</td>\n",
       "      <td>https://spacenet.tn/pc-portable-asus/80194-pc-...</td>\n",
       "      <td>2</td>\n",
       "    </tr>\n",
       "    <tr>\n",
       "      <th>name</th>\n",
       "      <td>4171</td>\n",
       "      <td>2871</td>\n",
       "      <td>Pc Portable Lenovo IdeaPad 1 15IJL7 Intel Cele...</td>\n",
       "      <td>9</td>\n",
       "    </tr>\n",
       "    <tr>\n",
       "      <th>brand</th>\n",
       "      <td>3045</td>\n",
       "      <td>277</td>\n",
       "      <td>LOQ 15IRX9</td>\n",
       "      <td>96</td>\n",
       "    </tr>\n",
       "    <tr>\n",
       "      <th>image_url</th>\n",
       "      <td>4171</td>\n",
       "      <td>3055</td>\n",
       "      <td>https://spacenet.tn/239010-home_default/pc-por...</td>\n",
       "      <td>2</td>\n",
       "    </tr>\n",
       "    <tr>\n",
       "      <th>store</th>\n",
       "      <td>4171</td>\n",
       "      <td>6</td>\n",
       "      <td>SpaceNet</td>\n",
       "      <td>2289</td>\n",
       "    </tr>\n",
       "    <tr>\n",
       "      <th>screen_size</th>\n",
       "      <td>4145</td>\n",
       "      <td>30</td>\n",
       "      <td>15.6 Pouces</td>\n",
       "      <td>1961</td>\n",
       "    </tr>\n",
       "    <tr>\n",
       "      <th>screen_resolution</th>\n",
       "      <td>1655</td>\n",
       "      <td>27</td>\n",
       "      <td>Full HD</td>\n",
       "      <td>583</td>\n",
       "    </tr>\n",
       "    <tr>\n",
       "      <th>processor</th>\n",
       "      <td>4161</td>\n",
       "      <td>66</td>\n",
       "      <td>Intel Core i5</td>\n",
       "      <td>1193</td>\n",
       "    </tr>\n",
       "    <tr>\n",
       "      <th>processor_reference</th>\n",
       "      <td>3616</td>\n",
       "      <td>405</td>\n",
       "      <td>Intel Core i7-13620H (4.9 GH, 24 Mo de mémoire...</td>\n",
       "      <td>107</td>\n",
       "    </tr>\n",
       "    <tr>\n",
       "      <th>ram</th>\n",
       "      <td>4160</td>\n",
       "      <td>21</td>\n",
       "      <td>16 Go</td>\n",
       "      <td>1288</td>\n",
       "    </tr>\n",
       "    <tr>\n",
       "      <th>disk_capacity</th>\n",
       "      <td>4137</td>\n",
       "      <td>15</td>\n",
       "      <td>512 Go SSD</td>\n",
       "      <td>2750</td>\n",
       "    </tr>\n",
       "    <tr>\n",
       "      <th>disk_type</th>\n",
       "      <td>1980</td>\n",
       "      <td>4</td>\n",
       "      <td>SSD</td>\n",
       "      <td>1966</td>\n",
       "    </tr>\n",
       "    <tr>\n",
       "      <th>gpu</th>\n",
       "      <td>4106</td>\n",
       "      <td>60</td>\n",
       "      <td>Graphique Intégrée</td>\n",
       "      <td>945</td>\n",
       "    </tr>\n",
       "    <tr>\n",
       "      <th>os</th>\n",
       "      <td>4168</td>\n",
       "      <td>20</td>\n",
       "      <td>Windows 11</td>\n",
       "      <td>1076</td>\n",
       "    </tr>\n",
       "    <tr>\n",
       "      <th>gamer</th>\n",
       "      <td>3370</td>\n",
       "      <td>3</td>\n",
       "      <td>Non</td>\n",
       "      <td>2318</td>\n",
       "    </tr>\n",
       "    <tr>\n",
       "      <th>price</th>\n",
       "      <td>4171</td>\n",
       "      <td>1254</td>\n",
       "      <td>1 999,000 DT</td>\n",
       "      <td>30</td>\n",
       "    </tr>\n",
       "  </tbody>\n",
       "</table>\n",
       "</div>"
      ],
      "text/plain": [
       "                    count unique  \\\n",
       "reference            4169   2450   \n",
       "link                 4171   3055   \n",
       "name                 4171   2871   \n",
       "brand                3045    277   \n",
       "image_url            4171   3055   \n",
       "store                4171      6   \n",
       "screen_size          4145     30   \n",
       "screen_resolution    1655     27   \n",
       "processor            4161     66   \n",
       "processor_reference  3616    405   \n",
       "ram                  4160     21   \n",
       "disk_capacity        4137     15   \n",
       "disk_type            1980      4   \n",
       "gpu                  4106     60   \n",
       "os                   4168     20   \n",
       "gamer                3370      3   \n",
       "price                4171   1254   \n",
       "\n",
       "                                                                   top  freq  \n",
       "reference                                               X1502VA-NJ257W     7  \n",
       "link                 https://spacenet.tn/pc-portable-asus/80194-pc-...     2  \n",
       "name                 Pc Portable Lenovo IdeaPad 1 15IJL7 Intel Cele...     9  \n",
       "brand                                                       LOQ 15IRX9    96  \n",
       "image_url            https://spacenet.tn/239010-home_default/pc-por...     2  \n",
       "store                                                         SpaceNet  2289  \n",
       "screen_size                                                15.6 Pouces  1961  \n",
       "screen_resolution                                              Full HD   583  \n",
       "processor                                                Intel Core i5  1193  \n",
       "processor_reference  Intel Core i7-13620H (4.9 GH, 24 Mo de mémoire...   107  \n",
       "ram                                                              16 Go  1288  \n",
       "disk_capacity                                               512 Go SSD  2750  \n",
       "disk_type                                                          SSD  1966  \n",
       "gpu                                                 Graphique Intégrée   945  \n",
       "os                                                          Windows 11  1076  \n",
       "gamer                                                              Non  2318  \n",
       "price                                                     1 999,000 DT    30  "
      ]
     },
     "execution_count": 7,
     "metadata": {},
     "output_type": "execute_result"
    }
   ],
   "source": [
    "combined_data.describe().T"
   ]
  },
  {
   "cell_type": "markdown",
   "id": "4bbafc68",
   "metadata": {},
   "source": [
    "### 🧼 Step 4: Data Cleaning"
   ]
  },
  {
   "cell_type": "markdown",
   "id": "83a040eb",
   "metadata": {},
   "source": [
    "#### Clean `brand` Column"
   ]
  },
  {
   "cell_type": "code",
   "execution_count": 8,
   "id": "97d93412",
   "metadata": {},
   "outputs": [
    {
     "name": "stdout",
     "output_type": "stream",
     "text": [
      "NaN values in brand: 1126\n"
     ]
    }
   ],
   "source": [
    "# Count missing brand values before cleaning\n",
    "missing_before = combined_data['brand'].isna().sum()\n",
    "print(f\"NaN values in brand: {missing_before}\")"
   ]
  },
  {
   "cell_type": "code",
   "execution_count": 9,
   "id": "9a29008a",
   "metadata": {},
   "outputs": [],
   "source": [
    "# List of possible brand names\n",
    "brand_keywords = ['apple', 'asus', 'dell', 'acer' , 'gigabyte', 'hp', 'lenovo', 'msi','samsung','chneider', 'thomson', 'toshiba', 'huawei', 'infinix', 'bmax', 'razer', 'yatagan','aorus']\n",
    "\n",
    "# Function to fill missing brand values based on the name column\n",
    "def detect_brand(row):\n",
    "    current_brand = str(row['brand']).lower().strip()\n",
    "    name = str(row['name']).lower()\n",
    "    \n",
    "    # If the current brand is in the known list, keep it\n",
    "    if current_brand in brand_keywords:\n",
    "        return current_brand.capitalize()\n",
    "    \n",
    "    # Otherwise, try to detect it from the name\n",
    "    for brand in brand_keywords:\n",
    "        if brand in name:\n",
    "            return brand.capitalize()\n",
    "    \n",
    "    # If nothing is detected\n",
    "    return None\n",
    "\n",
    "# Apply row-wise\n",
    "combined_data['brand'] = combined_data.apply(detect_brand, axis=1)"
   ]
  },
  {
   "cell_type": "code",
   "execution_count": 10,
   "id": "d9dacd4e",
   "metadata": {},
   "outputs": [],
   "source": [
    "# Count missing brand values after cleaning\n",
    "missing_after = combined_data['brand'].isna().sum()"
   ]
  },
  {
   "cell_type": "code",
   "execution_count": 11,
   "id": "13c4191d",
   "metadata": {},
   "outputs": [
    {
     "name": "stdout",
     "output_type": "stream",
     "text": [
      "✅ 1122 missing brand values were detected and filled.\n"
     ]
    }
   ],
   "source": [
    "# Calculate how many were filled\n",
    "filled_count = missing_before - missing_after\n",
    "\n",
    "print(f\"✅ {filled_count} missing brand values were detected and filled.\")"
   ]
  },
  {
   "cell_type": "code",
   "execution_count": 12,
   "id": "1f49ae1d",
   "metadata": {},
   "outputs": [
    {
     "name": "stdout",
     "output_type": "stream",
     "text": [
      "['Asus', 'Dell', 'Lenovo', 'Hp', 'Msi', 'Gigabyte', 'Apple', 'Bmax', None, 'Thomson', 'Acer']\n"
     ]
    }
   ],
   "source": [
    "print(combined_data['brand'].unique().tolist())"
   ]
  },
  {
   "cell_type": "code",
   "execution_count": 13,
   "id": "23a97e57",
   "metadata": {},
   "outputs": [
    {
     "data": {
      "text/plain": [
       "brand\n",
       "Lenovo      1179\n",
       "Asus         838\n",
       "Hp           811\n",
       "Dell         738\n",
       "Msi          364\n",
       "Gigabyte      91\n",
       "Apple         78\n",
       "Acer          62\n",
       "Bmax           4\n",
       "None           4\n",
       "Thomson        2\n",
       "Name: count, dtype: int64"
      ]
     },
     "execution_count": 13,
     "metadata": {},
     "output_type": "execute_result"
    }
   ],
   "source": [
    "combined_data['brand'].value_counts(dropna=False)"
   ]
  },
  {
   "cell_type": "code",
   "execution_count": 14,
   "id": "d19ff08b",
   "metadata": {},
   "outputs": [
    {
     "data": {
      "image/png": "[encoded data removed]",
      "text/plain": [
       "<Figure size 600x400 with 1 Axes>"
      ]
     },
     "metadata": {},
     "output_type": "display_data"
    }
   ],
   "source": [
    "brand_counts = combined_data['brand'].value_counts(dropna=True)\n",
    "\n",
    "plt.figure(figsize=(6,4))\n",
    "bars = plt.bar(brand_counts.index, brand_counts.values, color='skyblue')\n",
    "plt.title('Laptop Brands Distribution')\n",
    "plt.xlabel('Brand')\n",
    "plt.ylabel('Number of Listings')\n",
    "plt.xticks(rotation=45)\n",
    "\n",
    "# Add count labels on top of each bar\n",
    "for bar in bars:\n",
    "    height = bar.get_height()\n",
    "    plt.text(bar.get_x() + bar.get_width()/2, height, f'{int(height)}', \n",
    "             ha='center', va='bottom')\n",
    "\n",
    "plt.tight_layout()\n",
    "plt.show()"
   ]
  },
  {
   "cell_type": "code",
   "execution_count": 15,
   "id": "d5935c69",
   "metadata": {},
   "outputs": [
    {
     "name": "stdout",
     "output_type": "stream",
     "text": [
      "['Acer', 'Apple', 'Asus', 'Bmax', 'Dell', 'Gigabyte', 'Hp', 'Lenovo', 'Msi', 'Thomson']\n"
     ]
    }
   ],
   "source": [
    "print(sorted(combined_data['brand'].dropna().unique().tolist()))"
   ]
  },
  {
   "cell_type": "markdown",
   "id": "110a0209",
   "metadata": {},
   "source": [
    "#### Clean `screen_size` Column"
   ]
  },
  {
   "cell_type": "code",
   "execution_count": 16,
   "id": "7d4cb020",
   "metadata": {},
   "outputs": [
    {
     "name": "stdout",
     "output_type": "stream",
     "text": [
      "NaN values in screen_size: 26\n"
     ]
    }
   ],
   "source": [
    "nan_count = combined_data['screen_size'].isna().sum()\n",
    "print(f\"NaN values in screen_size: {nan_count}\")"
   ]
  },
  {
   "cell_type": "code",
   "execution_count": 17,
   "id": "fc93a33d",
   "metadata": {},
   "outputs": [
    {
     "name": "stdout",
     "output_type": "stream",
     "text": [
      "['15.6\"', '14\"', '17.3\"', '16\"', \"15,6''\", \"14''\", '13.6\"', \"16''\", '13.3\"', '15.3\"', '15.6 “', '19,5\"', nan, '14″ Full HD', '17.3″', '15.6 Pouces', '15.3 Pouces', '16 Pouces', '17.3 Pouces', '14 Pouces', '16.1 Pouces', '13.3 Pouces', '13.4 Pouces', '13 Pouces', '14.1 Pouces', '13  Pouces', '13.6 Pouces', '13.5 Pouces', '14\" - 15.6\"', '13,6\"', '13\"']\n"
     ]
    }
   ],
   "source": [
    "print(combined_data['screen_size'].unique().tolist())"
   ]
  },
  {
   "cell_type": "code",
   "execution_count": 18,
   "id": "e70f2353",
   "metadata": {},
   "outputs": [],
   "source": [
    "def clean_screen_size(value):\n",
    "    if pd.isna(value):\n",
    "        return np.nan\n",
    "    \n",
    "    # Convert to string, replace commas by dots for decimals\n",
    "    text = str(value).lower().replace(',', '.')\n",
    "    \n",
    "    # Use regex to find a float or int number (e.g., 15.6, 14, 13.3)\n",
    "    match = re.search(r'(\\d+(\\.\\d+)?)', text)\n",
    "    \n",
    "    if match:\n",
    "        return float(match.group(1))\n",
    "    else:\n",
    "        return np.nan\n",
    "\n",
    "# Example usage on your column\n",
    "combined_data['screen_size'] = combined_data['screen_size'].apply(clean_screen_size)"
   ]
  },
  {
   "cell_type": "code",
   "execution_count": 19,
   "id": "6cf55dd8",
   "metadata": {},
   "outputs": [
    {
     "name": "stdout",
     "output_type": "stream",
     "text": [
      "screen_size\n",
      "15.6    2312\n",
      "14.0    1080\n",
      "16.0     524\n",
      "13.3      58\n",
      "16.1      49\n",
      "17.3      46\n",
      "NaN       26\n",
      "13.6      23\n",
      "15.3      19\n",
      "13.0      19\n",
      "19.5       6\n",
      "13.5       4\n",
      "13.4       3\n",
      "14.1       2\n",
      "Name: count, dtype: int64\n"
     ]
    }
   ],
   "source": [
    "screen_sizes = combined_data['screen_size'].value_counts(dropna=False)\n",
    "print(screen_sizes)"
   ]
  },
  {
   "cell_type": "code",
   "execution_count": 20,
   "id": "adec74d0",
   "metadata": {},
   "outputs": [
    {
     "data": {
      "image/png": "[encoded data removed]",
      "text/plain": [
       "<Figure size 600x400 with 1 Axes>"
      ]
     },
     "metadata": {},
     "output_type": "display_data"
    }
   ],
   "source": [
    "# Assuming combined_data['screen_size_cleaned'] contains your cleaned floats\n",
    "screen_sizes = combined_data['screen_size'].dropna()\n",
    "\n",
    "# Count occurrences of each screen size\n",
    "size_counts = screen_sizes.value_counts().sort_index()\n",
    "\n",
    "plt.figure(figsize=(6,4))\n",
    "bars = plt.bar(size_counts.index.astype(str), size_counts.values, color='skyblue')\n",
    "plt.title('Distribution of Laptop Screen Sizes (inches)')\n",
    "plt.xlabel('Screen Size (inches)')\n",
    "plt.ylabel('Number of Laptops')\n",
    "plt.xticks(rotation=45)\n",
    "\n",
    "# Add count labels on top of each bar\n",
    "for bar in bars:\n",
    "    height = bar.get_height()\n",
    "    plt.text(bar.get_x() + bar.get_width()/2, height, f'{int(height)}', \n",
    "             ha='center', va='bottom')\n",
    "\n",
    "plt.tight_layout()\n",
    "plt.show()"
   ]
  },
  {
   "cell_type": "code",
   "execution_count": 21,
   "id": "34486437",
   "metadata": {},
   "outputs": [
    {
     "name": "stdout",
     "output_type": "stream",
     "text": [
      "[13.0, 13.3, 13.4, 13.5, 13.6, 14.0, 14.1, 15.3, 15.6, 16.0, 16.1, 17.3, 19.5, nan]\n"
     ]
    }
   ],
   "source": [
    "print(sorted(combined_data['screen_size'].unique().tolist()))"
   ]
  },
  {
   "cell_type": "markdown",
   "id": "8c781a6f",
   "metadata": {},
   "source": [
    "#### Clean `screen_resolution` Column"
   ]
  },
  {
   "cell_type": "code",
   "execution_count": 22,
   "id": "85c7d90a",
   "metadata": {},
   "outputs": [
    {
     "name": "stdout",
     "output_type": "stream",
     "text": [
      "NaN values in screen_resolution: 2516\n"
     ]
    }
   ],
   "source": [
    "nan_count = combined_data['screen_resolution'].isna().sum()\n",
    "print(f\"NaN values in screen_resolution: {nan_count}\")"
   ]
  },
  {
   "cell_type": "code",
   "execution_count": 23,
   "id": "4d86e62e",
   "metadata": {},
   "outputs": [],
   "source": [
    "combined_data = combined_data.drop(columns=['screen_resolution'])"
   ]
  },
  {
   "cell_type": "markdown",
   "id": "f6b230fb",
   "metadata": {},
   "source": [
    "#### Clean `processor` Column"
   ]
  },
  {
   "cell_type": "code",
   "execution_count": 24,
   "id": "8129b434",
   "metadata": {},
   "outputs": [
    {
     "name": "stdout",
     "output_type": "stream",
     "text": [
      "NaN values in processor: 10\n"
     ]
    }
   ],
   "source": [
    "nan_count = combined_data['processor'].isna().sum()\n",
    "print(f\"NaN values in processor: {nan_count}\")"
   ]
  },
  {
   "cell_type": "code",
   "execution_count": 25,
   "id": "f2aa7bb5",
   "metadata": {},
   "outputs": [
    {
     "name": "stdout",
     "output_type": "stream",
     "text": [
      "['Intel Celeron-Dual Core', 'Intel Core i3', 'AMD RYZEN 5', 'AMD RYZEN 7', 'Intel Core i5', 'Intel Core i7', 'Intel Core i9', 'AMD RYZEN 9', 'AMD', 'Intel Celeron-Quad-Core', 'Intel Celeron', 'AMD Athlon', 'AMD RYZEN 3', 'Intel Core Ultra 7', 'AMD Ryzen 5', 'AMD Ryzen 7', 'U7', 'Intel Core Ultra 5', 'Apple M3', 'Apple M4', 'Apple M3 Pro', 'AMD Ryzen 3', 'AMD Ryzen', 'U5', 'Apple M1', 'Apple M2', 'Hélio G99', 'Celeron N100', 'Intel Core i3-12è Gén', 'Intel Core i3 13è Gén', 'Intel Core i3-N305', 'Intel Core i3 12é Gén', 'i3-10110U (2.10 GHz up to 4.10 GHz, 4Mo Mémoire cache, Dual-Core)', nan, 'Intel Core i5 12è Gén', 'Intel Core i5 13é Gén', 'i5 13è Gén', 'Intel Core i5-1135G7 ( jusqu’à 4,2 GHz, 8 Mo)', 'Intel® Core™ i7 11émé génération', 'Intel Core  i7 13è Gén', '_', 'Intel Core i9 13è Gén', 'Intel Core i5-11400H', 'Intel  Core i5 210H', 'Intel Core i7 12è Gén', 'Intel Core7 - 240H', 'Intel Core i7-240H', 'Intel N95', 'Intel Core 5', 'Intel Core 7', 'AMD Ryzen 9', 'AMD Ryzen AI 9', 'Intel Core Ultra 9', 'AMD Ryzen Al Max 390', 'Intel Ultra 5', 'Intel Ultra 7', 'Intel core Ultra 5', 'Intel Core U5', 'Snapdragon X', 'intel core U7', 'Snapdragon XPlus 8C', 'intel Ultra 9', 'AMD Ryzen AI MAX+ 395', 'Apple M4 Pro', 'Intel Core i5 | Intel Core 5', 'Intel Core i7 | Intel Core 7', 'Snapdragon']\n"
     ]
    }
   ],
   "source": [
    "print(combined_data['processor'].unique().tolist())"
   ]
  },
  {
   "cell_type": "code",
   "execution_count": 26,
   "id": "162ffcb3",
   "metadata": {},
   "outputs": [],
   "source": [
    "canonical_map = {\n",
    "    # Intel Core Ultra series (various)\n",
    "    r'(intel.*core.*ultra.*5|intel.*ultra.*5|u5)': 'Intel Core Ultra',\n",
    "    r'(intel.*core.*ultra.*7|intel.*ultra.*7|u7)': 'Intel Core Ultra',\n",
    "    r'(intel.*core.*ultra.*9|intel.*ultra.*9|u9)': 'Intel Core Ultra',\n",
    "\n",
    "    # Intel Core i3 series\n",
    "    r'intel.*core.*i3': 'Intel Core i3',\n",
    "    r'intel.*core.*3': 'Intel Core i3',\n",
    "    r'\\bi3\\b': 'Intel Core i3',\n",
    "\n",
    "    # Intel Core i5 series\n",
    "    r'intel.*core.*i5': 'Intel Core i5',\n",
    "    r'intel.*core.*5': 'Intel Core i5',\n",
    "    r'\\bi5\\b': 'Intel Core i5',\n",
    "\n",
    "    # Intel Core i7 series\n",
    "    r'intel.*core.*i7': 'Intel Core i7',\n",
    "    r'intel.*core.*7': 'Intel Core i7',\n",
    "    r'\\bcore\\s*7\\b': 'Intel Core i7',\n",
    "    r'\\bcore7\\b': 'Intel Core i7',\n",
    "\n",
    "    # Intel Core i9 series\n",
    "    r'intel.*core.*i9': 'Intel Core i9',\n",
    "    r'intel.*core.*9': 'Intel Core i9',\n",
    "\n",
    "    # Intel Celeron\n",
    "    r'intel.*celeron.*dual.*core': 'Intel Celeron',\n",
    "    r'intel.*celeron.*quad.*core': 'Intel Celeron',\n",
    "    r'celeron n100': 'Intel Celeron',\n",
    "    r'intel.*celeron': 'Intel Celeron',\n",
    "\n",
    "    # Intel N95 etc.\n",
    "    r'intel.*n95': 'Intel N95',\n",
    "    r'intel.*95': 'Intel N95',\n",
    "\n",
    "    # AMD Ryzen 3, 5, 7, 9 series (ignore case, handle \"Amd\" or \"AMD\")\n",
    "    r'amd.*ryzen.*3': 'AMD Ryzen 3',\n",
    "    r'amd.*ryzen.*5': 'AMD Ryzen 5',\n",
    "    r'amd.*ryzen.*7': 'AMD Ryzen 7',\n",
    "    r'amd.*ryzen.*9': 'AMD Ryzen 9',\n",
    "    r'\\bamd\\b': 'AMD Ryzen 3',  # vague \"Amd\" mapped to generic Ryzen\n",
    "\n",
    "    # AMD Athlon\n",
    "    r'amd.*athlon': 'AMD Athlon',\n",
    "\n",
    "    # Apple M series\n",
    "    r'apple.*m': 'Apple M-Series',\n",
    "\n",
    "    # Snapdragon (general)\n",
    "    r'snapdragon.*': 'Snapdragon',\n",
    "\n",
    "    # Helio G series\n",
    "    r'hélio.*g\\d+': 'Helio G99',\n",
    "}\n",
    "\n",
    "def clean_processor(text):\n",
    "    if pd.isna(text):\n",
    "        return np.nan\n",
    "    text = str(text).lower().strip()\n",
    "\n",
    "    # Remove unwanted chars and info\n",
    "    text = re.sub(r'[_|]', '', text)\n",
    "    text = re.sub(r'\\(.*?\\)', '', text)  # remove parenthesis content (non-greedy)\n",
    "    text = text.strip()\n",
    "\n",
    "    # Map to canonical names\n",
    "    for pattern, canonical in canonical_map.items():\n",
    "        if re.search(pattern, text):\n",
    "            return canonical\n",
    "    \n",
    "    # Catch common shorthand like \"u5\", \"u7\", \"u9\" - treat as NaN or unknown\n",
    "    if text in ['u5', 'u7', 'u9', '', '_']:\n",
    "        return np.nan\n",
    "\n",
    "    # Capitalize properly for unknowns\n",
    "    return text.title()\n",
    "\n",
    "# Appliquer la fonction\n",
    "combined_data['processor'] = combined_data['processor'].apply(clean_processor)"
   ]
  },
  {
   "cell_type": "code",
   "execution_count": 27,
   "id": "43e65ec6",
   "metadata": {},
   "outputs": [
    {
     "data": {
      "text/plain": [
       "processor\n",
       "Intel Core i5       1514\n",
       "Intel Core i7       1157\n",
       "Intel Core i3        428\n",
       "Intel Core Ultra     289\n",
       "AMD Ryzen 7          215\n",
       "Intel Celeron        161\n",
       "Intel Core i9        113\n",
       "AMD Ryzen 5          107\n",
       "Apple M-Series        73\n",
       "AMD Ryzen 3           35\n",
       "AMD Ryzen 9           29\n",
       "Helio G99             23\n",
       "NaN                   14\n",
       "Snapdragon             9\n",
       "Intel N95              4\n",
       "Name: count, dtype: int64"
      ]
     },
     "execution_count": 27,
     "metadata": {},
     "output_type": "execute_result"
    }
   ],
   "source": [
    "combined_data['processor'].value_counts(dropna=False)"
   ]
  },
  {
   "cell_type": "code",
   "execution_count": 28,
   "id": "dffbb3b2",
   "metadata": {},
   "outputs": [
    {
     "data": {
      "image/png": "[encoded data removed]",
      "text/plain": [
       "<Figure size 1000x500 with 1 Axes>"
      ]
     },
     "metadata": {},
     "output_type": "display_data"
    }
   ],
   "source": [
    "processor_counts = combined_data['processor'].value_counts(dropna=True)\n",
    "processor_counts = processor_counts.sort_index()\n",
    "\n",
    "# Plot\n",
    "plt.figure(figsize=(10, 5))\n",
    "bars = plt.barh(processor_counts.index, processor_counts.values, color='skyblue')\n",
    "\n",
    "plt.xlabel('Count')\n",
    "plt.ylabel('Processor')\n",
    "plt.title('Distribution of Processor Types')\n",
    "\n",
    "# Show count next to each bar\n",
    "for bar in bars:\n",
    "    width = bar.get_width()\n",
    "    plt.text(width + 5, bar.get_y() + bar.get_height()/2.0, int(width), va='center', fontsize=8)\n",
    "\n",
    "plt.tight_layout()\n",
    "plt.show()"
   ]
  },
  {
   "cell_type": "code",
   "execution_count": 29,
   "id": "f4d03175",
   "metadata": {},
   "outputs": [
    {
     "name": "stdout",
     "output_type": "stream",
     "text": [
      "['AMD Ryzen 3', 'AMD Ryzen 5', 'AMD Ryzen 7', 'AMD Ryzen 9', 'Apple M-Series', 'Helio G99', 'Intel Celeron', 'Intel Core Ultra', 'Intel Core i3', 'Intel Core i5', 'Intel Core i7', 'Intel Core i9', 'Intel N95', 'Snapdragon']\n"
     ]
    }
   ],
   "source": [
    "print(sorted(combined_data['processor'].dropna().unique().tolist()))"
   ]
  },
  {
   "cell_type": "markdown",
   "id": "9bbe4aa6",
   "metadata": {},
   "source": [
    "#### Clean `processor_reference` Column"
   ]
  },
  {
   "cell_type": "code",
   "execution_count": 30,
   "id": "d846fbc0",
   "metadata": {},
   "outputs": [
    {
     "name": "stdout",
     "output_type": "stream",
     "text": [
      "NaN values in processor_reference: 555\n"
     ]
    }
   ],
   "source": [
    "nan_count = combined_data['processor_reference'].isna().sum()\n",
    "print(f\"NaN values in processor_reference: {nan_count}\")"
   ]
  },
  {
   "cell_type": "code",
   "execution_count": 31,
   "id": "57cea8ea",
   "metadata": {},
   "outputs": [],
   "source": [
    "combined_data = combined_data.drop(columns=['processor_reference'])"
   ]
  },
  {
   "cell_type": "markdown",
   "id": "bf1a1440",
   "metadata": {},
   "source": [
    "#### Clean `ram` Column"
   ]
  },
  {
   "cell_type": "code",
   "execution_count": 32,
   "id": "1ef86b4a",
   "metadata": {},
   "outputs": [
    {
     "name": "stdout",
     "output_type": "stream",
     "text": [
      "NaN values in ram: 11\n"
     ]
    }
   ],
   "source": [
    "nan_count = combined_data['ram'].isna().sum()\n",
    "print(f\"NaN values in ram: {nan_count}\")"
   ]
  },
  {
   "cell_type": "code",
   "execution_count": 33,
   "id": "82742c28",
   "metadata": {},
   "outputs": [
    {
     "name": "stdout",
     "output_type": "stream",
     "text": [
      "['4 Go', '8 Go', '16 Go', '12 Go', '32 Go', '4Go', '18 Go', '4 Mo', '8 G', '4 G', '16 G', nan, '24Go', '32Go', '24 Go', '20 Go', '64 Go', '48 Go', '40Go', '28 Go', '44 Go', '40 Go']\n"
     ]
    }
   ],
   "source": [
    "print(combined_data['ram'].unique().tolist())"
   ]
  },
  {
   "cell_type": "code",
   "execution_count": 34,
   "id": "9fe0ba36",
   "metadata": {},
   "outputs": [],
   "source": [
    "def clean_ram(value):\n",
    "    if pd.isna(value):\n",
    "        return np.nan\n",
    "    # Convert to string and lowercase\n",
    "    value = str(value).lower()\n",
    "    \n",
    "    # Find the first number in the string\n",
    "    match = re.search(r'(\\d+)', value)\n",
    "    if match:\n",
    "        return int(match.group(1))\n",
    "    else:\n",
    "        return np.nan \n",
    "\n",
    "# Apply to the column\n",
    "combined_data['ram'] = combined_data['ram'].apply(clean_ram).astype('Int64') "
   ]
  },
  {
   "cell_type": "code",
   "execution_count": 35,
   "id": "6eaa415b",
   "metadata": {
    "scrolled": true
   },
   "outputs": [
    {
     "data": {
      "text/plain": [
       "ram\n",
       "16      1342\n",
       "8       1121\n",
       "24       676\n",
       "32       672\n",
       "12       132\n",
       "4         58\n",
       "64        50\n",
       "20        39\n",
       "48        32\n",
       "40        23\n",
       "<NA>      11\n",
       "18         7\n",
       "28         4\n",
       "44         4\n",
       "Name: count, dtype: Int64"
      ]
     },
     "execution_count": 35,
     "metadata": {},
     "output_type": "execute_result"
    }
   ],
   "source": [
    "combined_data['ram'].value_counts(dropna=False)"
   ]
  },
  {
   "cell_type": "code",
   "execution_count": 36,
   "id": "e7e18c4f",
   "metadata": {},
   "outputs": [
    {
     "data": {
      "image/png": "[encoded data removed]",
      "text/plain": [
       "<Figure size 600x400 with 1 Axes>"
      ]
     },
     "metadata": {},
     "output_type": "display_data"
    }
   ],
   "source": [
    "ram_counts = combined_data['ram'].value_counts().sort_index()\n",
    "\n",
    "plt.figure(figsize=(6, 4))\n",
    "bars = plt.bar(ram_counts.index.astype(str), ram_counts.values, color='skyblue')\n",
    "\n",
    "plt.xlabel('RAM Size (GB)')\n",
    "plt.ylabel('Number of Laptops')\n",
    "plt.title('Distribution of RAM Sizes')\n",
    "\n",
    "# Show count above each bar\n",
    "for bar in bars:\n",
    "    height = bar.get_height()\n",
    "    plt.text(bar.get_x() + bar.get_width()/2, height + 10, str(height), ha='center')\n",
    "\n",
    "plt.show()"
   ]
  },
  {
   "cell_type": "code",
   "execution_count": 37,
   "id": "561c8a92",
   "metadata": {},
   "outputs": [
    {
     "name": "stdout",
     "output_type": "stream",
     "text": [
      "[4, 8, 12, 16, 18, 20, 24, 28, 32, 40, 44, 48, 64]\n"
     ]
    }
   ],
   "source": [
    "print(sorted(combined_data['ram'].dropna().unique().tolist()))"
   ]
  },
  {
   "cell_type": "markdown",
   "id": "f40d4477",
   "metadata": {},
   "source": [
    "#### Clean `disk_capacity` Column | Split into SSD / HDD"
   ]
  },
  {
   "cell_type": "code",
   "execution_count": 38,
   "id": "afc18c52",
   "metadata": {},
   "outputs": [
    {
     "name": "stdout",
     "output_type": "stream",
     "text": [
      "NaN values in disk_capacity: 34\n"
     ]
    }
   ],
   "source": [
    "nan_count = combined_data['disk_capacity'].isna().sum()\n",
    "print(f\"NaN values in disk_capacity: {nan_count}\")"
   ]
  },
  {
   "cell_type": "code",
   "execution_count": 39,
   "id": "5041be23",
   "metadata": {},
   "outputs": [
    {
     "name": "stdout",
     "output_type": "stream",
     "text": [
      "['256 Go SSD', '512 Go SSD', '1 To SSD', '256 Go', '1 To', '250GO SSD', '256GO', '512GO', nan, '64 Go eMMC', '512Go SSD', '512 Go', '2x 512Go SSD', '512Go SSD + 1To SSD', '1 To + 256 Go SSD', '2 To SSD']\n"
     ]
    }
   ],
   "source": [
    "print(combined_data['disk_capacity'].unique().tolist())"
   ]
  },
  {
   "cell_type": "code",
   "execution_count": 40,
   "id": "153b17fc",
   "metadata": {},
   "outputs": [],
   "source": [
    "def convert_to_gb(value_str):\n",
    "    \"\"\"\n",
    "    Convert a capacity string with unit (e.g., '256 Go', '1 To') to integer GB.\n",
    "    \"\"\"\n",
    "    if pd.isna(value_str):\n",
    "        return 0\n",
    "    value_str = value_str.lower().strip()\n",
    "    \n",
    "    # Extract number (including decimal) and unit\n",
    "    match = re.search(r'([\\d\\.]+)\\s*(go|to)', value_str)\n",
    "    if not match:\n",
    "        return 0\n",
    "    \n",
    "    number = float(match.group(1).replace(',', '.'))  # Replace comma decimal by dot if any\n",
    "    unit = match.group(2)\n",
    "    \n",
    "    if unit == 'to':\n",
    "        return int(number * 1024)  # Convert TB to GB\n",
    "    else:\n",
    "        return int(number)  # GB as is\n",
    "\n",
    "def split_disk_capacity(row):\n",
    "    val = row['disk_capacity']\n",
    "    if pd.isna(val):\n",
    "        return pd.Series([0, 0])\n",
    "\n",
    "    val = val.lower().replace(' ', '')  # remove spaces for easier parsing\n",
    "    \n",
    "    # If '+' present, split components\n",
    "    if '+' in val:\n",
    "        parts = val.split('+')\n",
    "        ssd = 0\n",
    "        hdd = 0\n",
    "        for part in parts:\n",
    "            if 'ssd' in part:\n",
    "                ssd = convert_to_gb(part)\n",
    "            else:\n",
    "                hdd = convert_to_gb(part)\n",
    "        return pd.Series([ssd, hdd])\n",
    "    \n",
    "    # If 'ssd' present in val, SSD capacity, HDD=0\n",
    "    elif 'ssd' in val:\n",
    "        ssd = convert_to_gb(val)\n",
    "        return pd.Series([ssd, 0])\n",
    "    \n",
    "    # Otherwise, treat as HDD, SSD=0\n",
    "    else:\n",
    "        hdd = convert_to_gb(val)\n",
    "        return pd.Series([0, hdd])\n",
    "\n",
    "# Apply function to dataframe\n",
    "combined_data[['SSD', 'HDD']] = combined_data.apply(split_disk_capacity, axis=1)"
   ]
  },
  {
   "cell_type": "code",
   "execution_count": 41,
   "id": "109e112e",
   "metadata": {},
   "outputs": [
    {
     "name": "stdout",
     "output_type": "stream",
     "text": [
      "     disk_capacity   SSD  HDD\n",
      "4151    512 Go SSD   512    0\n",
      "4152    512 Go SSD   512    0\n",
      "4153      1 To SSD  1024    0\n",
      "4154    512 Go SSD   512    0\n",
      "4155      1 To SSD  1024    0\n",
      "4156      1 To SSD  1024    0\n",
      "4157    512 Go SSD   512    0\n",
      "4158    512 Go SSD   512    0\n",
      "4159      1 To SSD  1024    0\n",
      "4160      1 To SSD  1024    0\n",
      "4161    512 Go SSD   512    0\n",
      "4162      1 To SSD  1024    0\n",
      "4163    512 Go SSD   512    0\n",
      "4164    512 Go SSD   512    0\n",
      "4165      1 To SSD  1024    0\n",
      "4166    512 Go SSD   512    0\n",
      "4167    512 Go SSD   512    0\n",
      "4168      1 To SSD  1024    0\n",
      "4169      1 To SSD  1024    0\n",
      "4170      1 To SSD  1024    0\n"
     ]
    }
   ],
   "source": [
    "print(combined_data[['disk_capacity', 'SSD', 'HDD']].tail(20))"
   ]
  },
  {
   "cell_type": "code",
   "execution_count": 42,
   "id": "ea45b34c",
   "metadata": {},
   "outputs": [],
   "source": [
    "combined_data = combined_data.drop(columns=['disk_capacity'])"
   ]
  },
  {
   "cell_type": "code",
   "execution_count": 43,
   "id": "6717848c",
   "metadata": {},
   "outputs": [
    {
     "data": {
      "text/plain": [
       "SSD\n",
       "512     3294\n",
       "1024     373\n",
       "256      333\n",
       "0        166\n",
       "2048       4\n",
       "250        1\n",
       "Name: count, dtype: int64"
      ]
     },
     "execution_count": 43,
     "metadata": {},
     "output_type": "execute_result"
    }
   ],
   "source": [
    "combined_data['SSD'].value_counts(dropna=False)"
   ]
  },
  {
   "cell_type": "code",
   "execution_count": 44,
   "id": "e453cfd2",
   "metadata": {},
   "outputs": [
    {
     "data": {
      "text/plain": [
       "HDD\n",
       "0       4030\n",
       "512       78\n",
       "256       37\n",
       "1024      20\n",
       "64         6\n",
       "Name: count, dtype: int64"
      ]
     },
     "execution_count": 44,
     "metadata": {},
     "output_type": "execute_result"
    }
   ],
   "source": [
    "combined_data['HDD'].value_counts(dropna=False)"
   ]
  },
  {
   "cell_type": "code",
   "execution_count": 45,
   "id": "a4d38ec5",
   "metadata": {},
   "outputs": [],
   "source": [
    "# Clean SSD values\n",
    "combined_data['SSD'] = combined_data['SSD'].replace({250: 256})"
   ]
  },
  {
   "cell_type": "code",
   "execution_count": 46,
   "id": "d54d96b8",
   "metadata": {},
   "outputs": [
    {
     "data": {
      "image/png": "[encoded data removed]",
      "text/plain": [
       "<Figure size 1200x500 with 2 Axes>"
      ]
     },
     "metadata": {},
     "output_type": "display_data"
    }
   ],
   "source": [
    "# Group by unique capacities and count occurrences\n",
    "ssd_counts = combined_data['SSD'].value_counts().sort_index()\n",
    "hdd_counts = combined_data['HDD'].value_counts().sort_index()\n",
    "\n",
    "# Create subplots\n",
    "plt.figure(figsize=(12, 5))\n",
    "\n",
    "# SSD Plot\n",
    "plt.subplot(1, 2, 1)\n",
    "bars1 = plt.bar(ssd_counts.index.astype(str), ssd_counts.values, color='steelblue')\n",
    "plt.title(\"SSD Capacity Distribution\")\n",
    "plt.xlabel(\"SSD Size (GB)\")\n",
    "plt.ylabel(\"Count\")\n",
    "plt.xticks(rotation=45)\n",
    "\n",
    "# Add count labels above bars\n",
    "for bar in bars1:\n",
    "    yval = bar.get_height()\n",
    "    plt.text(bar.get_x() + bar.get_width()/2, yval + 3, int(yval), ha='center', va='bottom', fontsize=8)\n",
    "\n",
    "# HDD Plot\n",
    "plt.subplot(1, 2, 2)\n",
    "bars2 = plt.bar(hdd_counts.index.astype(str), hdd_counts.values, color='darkorange')\n",
    "plt.title(\"HDD Capacity Distribution\")\n",
    "plt.xlabel(\"HDD Size (GB)\")\n",
    "plt.ylabel(\"Count\")\n",
    "plt.xticks(rotation=45)\n",
    "\n",
    "# Add count labels above bars\n",
    "for bar in bars2:\n",
    "    yval = bar.get_height()\n",
    "    plt.text(bar.get_x() + bar.get_width()/2, yval + 3, int(yval), ha='center', va='bottom', fontsize=8)\n",
    "\n",
    "plt.tight_layout()\n",
    "plt.show()"
   ]
  },
  {
   "cell_type": "code",
   "execution_count": 47,
   "id": "b156a6d0",
   "metadata": {},
   "outputs": [
    {
     "name": "stdout",
     "output_type": "stream",
     "text": [
      "[0, 256, 512, 1024, 2048]\n",
      "[0, 64, 256, 512, 1024]\n"
     ]
    }
   ],
   "source": [
    "print(sorted(combined_data['SSD'].unique().tolist()))\n",
    "print(sorted(combined_data['HDD'].unique().tolist()))"
   ]
  },
  {
   "cell_type": "markdown",
   "id": "13194a24",
   "metadata": {},
   "source": [
    "#### Clean `disk_type` Column"
   ]
  },
  {
   "cell_type": "code",
   "execution_count": 48,
   "id": "6aa54ae4",
   "metadata": {},
   "outputs": [
    {
     "name": "stdout",
     "output_type": "stream",
     "text": [
      "NaN values in disk_type: 2191\n"
     ]
    }
   ],
   "source": [
    "nan_count = combined_data['disk_type'].isna().sum()\n",
    "print(f\"NaN values in disk_type: {nan_count}\")"
   ]
  },
  {
   "cell_type": "code",
   "execution_count": 49,
   "id": "ec12e003",
   "metadata": {},
   "outputs": [],
   "source": [
    "combined_data = combined_data.drop(columns=['disk_type'])"
   ]
  },
  {
   "cell_type": "markdown",
   "id": "63ed669c",
   "metadata": {},
   "source": [
    "#### Clean `gpu` Column"
   ]
  },
  {
   "cell_type": "code",
   "execution_count": 50,
   "id": "14125d6f",
   "metadata": {},
   "outputs": [
    {
     "name": "stdout",
     "output_type": "stream",
     "text": [
      "NaN values in gpu: 65\n"
     ]
    }
   ],
   "source": [
    "nan_count = combined_data['gpu'].isna().sum()\n",
    "print(f\"NaN values in gpu: {nan_count}\")"
   ]
  },
  {
   "cell_type": "code",
   "execution_count": 51,
   "id": "682ad57c",
   "metadata": {},
   "outputs": [
    {
     "name": "stdout",
     "output_type": "stream",
     "text": [
      "['Graphique Intégrée', 'AMD Radeon', 'Intel UHD Intégrée', 'Nvidia GeForce', 'Intel Iris Xe', nan, 'Intel® Graphics', 'Intel® HD Graphics', 'Intel HD Graphics', 'AMD Radeon ™ Intégrée', 'Intel UHD Graphics', 'NVIDIA GeForce GTX 1660', 'Intel® Iris® X', 'NVIDIA GeForce\\xa0MX350', 'NVIDIA GeForce MX450', 'GeForce MX570A', 'NVIDIA GeForce MX550', 'GeForce RTX 4070', 'GeForce RTX 2050', 'Intel UMA Graphics', 'NVIDIA GeForce RTX 3050', 'GeForce RTX4050', 'GeForce RTX 4060', 'Intel Arc', 'Nvidia', 'Intel UHD', 'Intel HD', 'AMD Radeon 610M', 'NVIDIA GeForce MX350, 2Go de mémoire dédiée', 'Nvidia GeForce MX570 (2 Go DDR6 dédiés)', 'NVIDIA GeForce MX330, 2 Go de mémoire dédiée', 'Nvidia GeForce RTX 2050, 4 Go De Mémoire Dédiée', 'Nvidia GeForce RTX 2050 (4 Go de mémoire dédiée GDDR6 )', 'Nvidea GeForce RTX 3050, 4 Go De Mémoire Dédiée GDDR6', 'Intel Graphics', 'Nvidia GeForce RTX 3050,6 Go de mémoire dédiée GDDR6', 'Nvidia GeForce RTX 3050, 6 Go De Mémoire Dédiée', 'NVIDIA GeForce MX 550  2Go De Mémoire Dédiée GDDR6', 'Nvidia GeForce RTX 3050, 8 Go De Mémoire Dédiée', 'NVIDIA GeForce RTX 3050 (4 Go de mémoire dédiée GDDR6)', 'Nvidea GeForce MX350, 2 Go DDR3 De Mémoire Dédiée', 'Nvidea GeForce MX550, 2 Go de mémoire dédiée GDDR6', 'Nvidia GeForce RTX 4050, 6 Go De Mémoire Dédiée', 'NVIDIA GeForce MX450 (2 Go de mémoire dédiée DDR5)', 'Nvidea GeForce GTX 1650 Ti 4Go De Mémoire Dédiée', 'Nvidia GeForce RTX 4060 8Go DDR6', 'Nvidia GeForce RTX 4060 8Go de Mémoire dédié GDDR6', 'Intel Arc Graphics', 'Nvidia GeForce RTX 3050 Ti, 4 Go de Mémoire Dédiée GDDR6', 'NVIDIA GeForce RTX3050 (6Go de mémoire dédiée GDDR6)', 'Qualcomm Adreno', 'Nvidia GeForce RTX 4060, 8 Go De Mémoire Dédiée', 'Nvidea GeForce RTX 4060, 6 Go De Mémoire Dédiée DDR6', 'Nvidia GeForce RTX 4070, 8 Go De Mémoire Dédiée', 'Apple M3', 'NVIDIA® RTX 500 Ada Generation 4 Go GDDR6', 'Nvidia GeForce RTX 3060, 6 Go De Mémoire Dédiée GDDR6', 'Apple M4 Pro', 'Nvidia GeForce RTX 3080, 16 Go De Mémoire Dédiée GDDR6', 'Nvidia GeForce RTX 4090, 16 Go GDDR6 de mémoire dédiée', 'Nvidia GeForce RTX 5080, 16Go De Mémoire Dédiée']\n"
     ]
    }
   ],
   "source": [
    "print(combined_data['gpu'].unique().tolist())"
   ]
  },
  {
   "cell_type": "code",
   "execution_count": 52,
   "id": "baa71092",
   "metadata": {},
   "outputs": [],
   "source": [
    "# Define mapping with regex keys and cleaned brand/type values\n",
    "gpu_map = {\n",
    "    r'graphique intégrée': 'Integrated Graphics',\n",
    "    r'amd.*radeon': 'AMD',\n",
    "    r'intel.*(iris|uhd|hd|graphics|arc|uma)': 'Intel',\n",
    "    r'(nvidia|nvidea).*geforce': 'Nvidia GeForce',\n",
    "    r'geforce.*(gtx|rtx|mx|)\\s?\\d+': 'Nvidia GeForce',  # extra safeguard for rtx 2050, 3050, etc.\n",
    "    r'geforce.*': 'Nvidia GeForce',\n",
    "    r'nvidia': 'Nvidia GeForce',\n",
    "    r'qualcomm.*adreno': 'Qualcomm Adreno',\n",
    "    r'apple.*m\\d+': 'Apple GPU',\n",
    "}\n",
    "\n",
    "def clean_gpu(text):\n",
    "    if pd.isna(text):\n",
    "        return np.nan\n",
    "    text = text.lower()\n",
    "    text = re.sub(r'[\\xa0®™]', ' ', text)\n",
    "    text = re.sub(r'\\s+', ' ', text).strip()\n",
    "    text = text.replace(',', '').replace('-', ' ')\n",
    "    \n",
    "    for pattern, canonical in gpu_map.items():\n",
    "        if re.search(pattern, text):\n",
    "            return canonical\n",
    "\n",
    "    return text.capitalize()\n",
    "\n",
    "# Apply to your dataset\n",
    "combined_data['gpu'] = combined_data['gpu'].apply(clean_gpu)"
   ]
  },
  {
   "cell_type": "code",
   "execution_count": 53,
   "id": "e0c701cc",
   "metadata": {},
   "outputs": [
    {
     "data": {
      "text/plain": [
       "gpu\n",
       "Nvidia GeForce         1588\n",
       "Intel                  1339\n",
       "Integrated Graphics     945\n",
       "AMD                     216\n",
       "NaN                      65\n",
       "Apple GPU                12\n",
       "Qualcomm Adreno           6\n",
       "Name: count, dtype: int64"
      ]
     },
     "execution_count": 53,
     "metadata": {},
     "output_type": "execute_result"
    }
   ],
   "source": [
    "combined_data['gpu'].value_counts(dropna=False)"
   ]
  },
  {
   "cell_type": "code",
   "execution_count": 54,
   "id": "bea267b8",
   "metadata": {},
   "outputs": [
    {
     "data": {
      "image/png": "[encoded data removed]",
      "text/plain": [
       "<Figure size 800x500 with 1 Axes>"
      ]
     },
     "metadata": {},
     "output_type": "display_data"
    }
   ],
   "source": [
    "gpu_counts = combined_data['gpu'].value_counts(dropna=True)\n",
    "\n",
    "plt.figure(figsize=(8, 5))\n",
    "bars = plt.bar(gpu_counts.index, gpu_counts.values, color='lightseagreen')\n",
    "plt.xticks(rotation=45)\n",
    "plt.xlabel('GPU Type')\n",
    "plt.ylabel('Number of Laptops')\n",
    "plt.title('Distribution of GPU Types')\n",
    "\n",
    "# Show counts above bars\n",
    "for bar in bars:\n",
    "    yval = bar.get_height()\n",
    "    plt.text(bar.get_x() + bar.get_width()/2.0, yval + 5, int(yval), ha='center')\n",
    "\n",
    "plt.tight_layout()\n",
    "plt.show()"
   ]
  },
  {
   "cell_type": "code",
   "execution_count": 55,
   "id": "aa97e1f3",
   "metadata": {},
   "outputs": [
    {
     "name": "stdout",
     "output_type": "stream",
     "text": [
      "['AMD', 'Apple GPU', 'Integrated Graphics', 'Intel', 'Nvidia GeForce', 'Qualcomm Adreno']\n"
     ]
    }
   ],
   "source": [
    "print(sorted(combined_data['gpu'].dropna().unique().tolist()))"
   ]
  },
  {
   "cell_type": "markdown",
   "id": "2ac599be",
   "metadata": {},
   "source": [
    "#### Clean `os` Column"
   ]
  },
  {
   "cell_type": "code",
   "execution_count": 56,
   "id": "ab02b402",
   "metadata": {},
   "outputs": [
    {
     "name": "stdout",
     "output_type": "stream",
     "text": [
      "NaN values in os: 3\n"
     ]
    }
   ],
   "source": [
    "nan_count = combined_data['os'].isna().sum()\n",
    "print(f\"NaN values in os: {nan_count}\")"
   ]
  },
  {
   "cell_type": "code",
   "execution_count": 57,
   "id": "13c7b0fd",
   "metadata": {},
   "outputs": [
    {
     "name": "stdout",
     "output_type": "stream",
     "text": [
      "['FreeDos', 'Windows', 'Windows 11', 'windows 11 famille', 'Ubuntu', 'Android', 'Windows 11 Famille', 'Ubunto', 'Windows 10', 'MacOS', 'Android 14', nan, 'Windows 11 Pro', 'Free Dos', 'Linux', 'Mac Os', 'Windows 10 Pro', 'Windows 11 Home', 'macOS Big Sur', 'Apple macOS Monterey', 'macOS Sequoia']\n"
     ]
    }
   ],
   "source": [
    "print(combined_data['os'].unique().tolist())"
   ]
  },
  {
   "cell_type": "code",
   "execution_count": 58,
   "id": "3c0a9545",
   "metadata": {},
   "outputs": [],
   "source": [
    "os_map = {\n",
    "    r'free\\s?dos': 'FreeDos',\n",
    "    r'windows.*': 'Windows',\n",
    "    r'ubuntu|ubunto': 'Ubuntu',\n",
    "    r'android.*': 'Android',\n",
    "    r'macos|mac os|apple macos|macos big sur|macos monterey|macos sequoia': 'macOS',\n",
    "    r'linux': 'Linux',\n",
    "}\n",
    "\n",
    "def clean_os(os_value):\n",
    "    if pd.isna(os_value):\n",
    "        return np.nan\n",
    "    os_value = str(os_value).lower().strip()\n",
    "    \n",
    "    for pattern, clean_name in os_map.items():\n",
    "        if re.search(pattern, os_value):\n",
    "            return clean_name\n",
    "    return os_value.capitalize()  \n",
    "\n",
    "combined_data['os'] = combined_data['os'].apply(clean_os)"
   ]
  },
  {
   "cell_type": "code",
   "execution_count": 59,
   "id": "f2a057b0",
   "metadata": {},
   "outputs": [
    {
     "name": "stdout",
     "output_type": "stream",
     "text": [
      "os\n",
      "Windows    2231\n",
      "FreeDos    1566\n",
      "Ubuntu      230\n",
      "macOS        78\n",
      "Linux        53\n",
      "Android      10\n",
      "NaN           3\n",
      "Name: count, dtype: int64\n"
     ]
    }
   ],
   "source": [
    "print(combined_data['os'].value_counts(dropna=False))\n"
   ]
  },
  {
   "cell_type": "code",
   "execution_count": 60,
   "id": "eebbdce8",
   "metadata": {},
   "outputs": [
    {
     "data": {
      "image/png": "[encoded data removed]",
      "text/plain": [
       "<Figure size 600x400 with 1 Axes>"
      ]
     },
     "metadata": {},
     "output_type": "display_data"
    }
   ],
   "source": [
    "# Get counts\n",
    "os_counts = combined_data['os'].value_counts(dropna=True)\n",
    "\n",
    "# Plot\n",
    "plt.figure(figsize=(6, 4))\n",
    "bars = plt.bar(os_counts.index, os_counts.values, color='skyblue')\n",
    "plt.title(\"Distribution of Operating Systems\")\n",
    "plt.xlabel(\"Operating System\")\n",
    "plt.ylabel(\"Number of Laptops\")\n",
    "plt.xticks(rotation=45)\n",
    "\n",
    "# Show count above each bar\n",
    "for bar in bars:\n",
    "    yval = bar.get_height()\n",
    "    plt.text(bar.get_x() + bar.get_width()/2.0, yval + 2, int(yval), ha='center', va='bottom', fontsize=9)\n",
    "\n",
    "plt.tight_layout()\n",
    "plt.show()"
   ]
  },
  {
   "cell_type": "code",
   "execution_count": 61,
   "id": "e004d7dc",
   "metadata": {},
   "outputs": [
    {
     "name": "stdout",
     "output_type": "stream",
     "text": [
      "['Android', 'FreeDos', 'Linux', 'Ubuntu', 'Windows', 'macOS']\n"
     ]
    }
   ],
   "source": [
    "print(sorted(combined_data['os'].dropna().unique().tolist()))"
   ]
  },
  {
   "cell_type": "markdown",
   "id": "20e70176",
   "metadata": {},
   "source": [
    "#### Clean `gamer` Column"
   ]
  },
  {
   "cell_type": "code",
   "execution_count": 62,
   "id": "7a796fb6",
   "metadata": {},
   "outputs": [
    {
     "name": "stdout",
     "output_type": "stream",
     "text": [
      "NaN values in gamer: 801\n"
     ]
    }
   ],
   "source": [
    "nan_count = combined_data['gamer'].isna().sum()\n",
    "print(f\"NaN values in gamer: {nan_count}\")"
   ]
  },
  {
   "cell_type": "code",
   "execution_count": 63,
   "id": "ca2c84c0",
   "metadata": {},
   "outputs": [
    {
     "name": "stdout",
     "output_type": "stream",
     "text": [
      "['Non', 'Oui', nan, 'oui']\n"
     ]
    }
   ],
   "source": [
    "print(combined_data['gamer'].unique().tolist())"
   ]
  },
  {
   "cell_type": "code",
   "execution_count": 64,
   "id": "29c174bd",
   "metadata": {},
   "outputs": [
    {
     "name": "stdout",
     "output_type": "stream",
     "text": [
      "gamer\n",
      "Non    2318\n",
      "Oui    1052\n",
      "NaN     801\n",
      "Name: count, dtype: int64\n"
     ]
    }
   ],
   "source": [
    "# Standardize 'gamer' column values\n",
    "combined_data['gamer'] = combined_data['gamer'].str.strip().str.capitalize()\n",
    "\n",
    "# Check result\n",
    "print(combined_data['gamer'].value_counts(dropna=False))"
   ]
  },
  {
   "cell_type": "code",
   "execution_count": 65,
   "id": "f86d1612",
   "metadata": {},
   "outputs": [],
   "source": [
    "# For rows where 'gamer' is NaN, check if 'name' contains 'gamer' (case-insensitive)\n",
    "mask_nan = combined_data['gamer'].isna()\n",
    "\n",
    "combined_data.loc[mask_nan, 'gamer'] = combined_data.loc[mask_nan, 'name'].str.contains('gamer', case=False, na=False).map({True: 'Oui', False: 'Non'})"
   ]
  },
  {
   "cell_type": "code",
   "execution_count": 66,
   "id": "6bb0a9ab",
   "metadata": {},
   "outputs": [],
   "source": [
    "combined_data['gamer'] = combined_data['gamer'].map({'Non': 0, 'Oui': 1}).astype(int)"
   ]
  },
  {
   "cell_type": "code",
   "execution_count": 67,
   "id": "84a0d0a2",
   "metadata": {},
   "outputs": [
    {
     "name": "stdout",
     "output_type": "stream",
     "text": [
      "gamer\n",
      "0    2931\n",
      "1    1240\n",
      "Name: count, dtype: int64\n"
     ]
    }
   ],
   "source": [
    "print(combined_data['gamer'].value_counts(dropna=False))"
   ]
  },
  {
   "cell_type": "code",
   "execution_count": 68,
   "id": "6b61e44d",
   "metadata": {},
   "outputs": [
    {
     "name": "stdout",
     "output_type": "stream",
     "text": [
      "[0, 1]\n"
     ]
    }
   ],
   "source": [
    "print(combined_data['gamer'].unique().tolist())"
   ]
  },
  {
   "cell_type": "markdown",
   "id": "e563ee17",
   "metadata": {},
   "source": [
    "#### Clean `price` Column"
   ]
  },
  {
   "cell_type": "code",
   "execution_count": 69,
   "id": "3af21010",
   "metadata": {},
   "outputs": [
    {
     "name": "stdout",
     "output_type": "stream",
     "text": [
      "NaN values in price: 0\n"
     ]
    }
   ],
   "source": [
    "nan_count = combined_data['price'].isna().sum()\n",
    "print(f\"NaN values in price: {nan_count}\")"
   ]
  },
  {
   "cell_type": "code",
   "execution_count": 70,
   "id": "d7832668",
   "metadata": {},
   "outputs": [
    {
     "data": {
      "text/plain": [
       "0         719,000 TND\n",
       "1       1 049,000 TND\n",
       "2       1 169,000 TND\n",
       "3       1 189,000 TND\n",
       "4       1 189,000 TND\n",
       "            ...      \n",
       "4166    10 399,000 DT\n",
       "4167    10 399,000 DT\n",
       "4168    13 489,000 DT\n",
       "4169    13 679,000 DT\n",
       "4170    13 899,000 DT\n",
       "Name: price, Length: 4171, dtype: object"
      ]
     },
     "execution_count": 70,
     "metadata": {},
     "output_type": "execute_result"
    }
   ],
   "source": [
    "combined_data['price']"
   ]
  },
  {
   "cell_type": "code",
   "execution_count": 71,
   "id": "4ef2a6b4",
   "metadata": {},
   "outputs": [],
   "source": [
    "def clean_price(price_str):\n",
    "    if pd.isna(price_str):\n",
    "        return None\n",
    "    price_str = re.sub(r'[^\\d,\\.]', '', price_str.replace('\\u202f', '').replace(' ', ''))\n",
    "    price_str = price_str.replace(',', '.')\n",
    "    \n",
    "    return float(price_str)\n",
    "\n",
    "\n",
    "combined_data['price'] = combined_data['price'].apply(clean_price)"
   ]
  },
  {
   "cell_type": "code",
   "execution_count": 72,
   "id": "9bae09dd",
   "metadata": {},
   "outputs": [
    {
     "name": "stderr",
     "output_type": "stream",
     "text": [
      "C:\\Users\\HP\\anaconda3\\lib\\site-packages\\seaborn\\_oldcore.py:1119: FutureWarning: use_inf_as_na option is deprecated and will be removed in a future version. Convert inf values to NaN before operating instead.\n",
      "  with pd.option_context('mode.use_inf_as_na', True):\n"
     ]
    },
    {
     "data": {
      "image/png": "[encoded data removed]",
      "text/plain": [
       "<Figure size 800x400 with 1 Axes>"
      ]
     },
     "metadata": {},
     "output_type": "display_data"
    }
   ],
   "source": [
    "plt.figure(figsize=(8, 4))\n",
    "sns.histplot(combined_data['price'], bins=40, kde=True, color='steelblue')\n",
    "\n",
    "max_price = int(combined_data['price'].max())\n",
    "plt.xticks(np.arange(0, max_price + 1000, 1000))\n",
    "\n",
    "plt.title('Distribution of Laptop Prices')\n",
    "plt.xlabel('Price (TND)')\n",
    "plt.ylabel('Number of Laptops')\n",
    "plt.grid(True)\n",
    "plt.tight_layout()\n",
    "plt.show()"
   ]
  },
  {
   "cell_type": "markdown",
   "id": "8b999c66",
   "metadata": {},
   "source": [
    "### 🗑️ Step 5: Remove Duplicates and rows with NaN values"
   ]
  },
  {
   "cell_type": "code",
   "execution_count": 73,
   "id": "b0ecf55a",
   "metadata": {},
   "outputs": [],
   "source": [
    "# Remove duplicate rows\n",
    "combined_data = combined_data.drop_duplicates(subset=['brand', 'screen_size', 'processor', 'ram', 'SSD','HDD', 'gpu', 'os', 'gamer', 'price'])"
   ]
  },
  {
   "cell_type": "code",
   "execution_count": 74,
   "id": "854e3245",
   "metadata": {},
   "outputs": [],
   "source": [
    "# Drop rows with any NaN values in the entire dataframe\n",
    "combined_data = combined_data.dropna()"
   ]
  },
  {
   "cell_type": "code",
   "execution_count": 75,
   "id": "6eb94d5c",
   "metadata": {},
   "outputs": [
    {
     "name": "stdout",
     "output_type": "stream",
     "text": [
      "<class 'pandas.core.frame.DataFrame'>\n",
      "Index: 2429 entries, 0 to 4163\n",
      "Data columns (total 15 columns):\n",
      " #   Column       Non-Null Count  Dtype  \n",
      "---  ------       --------------  -----  \n",
      " 0   reference    2429 non-null   object \n",
      " 1   link         2429 non-null   object \n",
      " 2   name         2429 non-null   object \n",
      " 3   brand        2429 non-null   object \n",
      " 4   image_url    2429 non-null   object \n",
      " 5   store        2429 non-null   object \n",
      " 6   screen_size  2429 non-null   float64\n",
      " 7   processor    2429 non-null   object \n",
      " 8   ram          2429 non-null   Int64  \n",
      " 9   gpu          2429 non-null   object \n",
      " 10  os           2429 non-null   object \n",
      " 11  gamer        2429 non-null   int32  \n",
      " 12  price        2429 non-null   float64\n",
      " 13  SSD          2429 non-null   int64  \n",
      " 14  HDD          2429 non-null   int64  \n",
      "dtypes: Int64(1), float64(2), int32(1), int64(2), object(9)\n",
      "memory usage: 296.5+ KB\n"
     ]
    }
   ],
   "source": [
    "combined_data.info()"
   ]
  },
  {
   "cell_type": "code",
   "execution_count": 76,
   "id": "db72d5b7",
   "metadata": {},
   "outputs": [
    {
     "data": {
      "text/html": [
       "<div>\n",
       "<style scoped>\n",
       "    .dataframe tbody tr th:only-of-type {\n",
       "        vertical-align: middle;\n",
       "    }\n",
       "\n",
       "    .dataframe tbody tr th {\n",
       "        vertical-align: top;\n",
       "    }\n",
       "\n",
       "    .dataframe thead th {\n",
       "        text-align: right;\n",
       "    }\n",
       "</style>\n",
       "<table border=\"1\" class=\"dataframe\">\n",
       "  <thead>\n",
       "    <tr style=\"text-align: right;\">\n",
       "      <th></th>\n",
       "      <th>count</th>\n",
       "      <th>mean</th>\n",
       "      <th>std</th>\n",
       "      <th>min</th>\n",
       "      <th>25%</th>\n",
       "      <th>50%</th>\n",
       "      <th>75%</th>\n",
       "      <th>max</th>\n",
       "    </tr>\n",
       "  </thead>\n",
       "  <tbody>\n",
       "    <tr>\n",
       "      <th>screen_size</th>\n",
       "      <td>2429.0</td>\n",
       "      <td>15.120502</td>\n",
       "      <td>0.858939</td>\n",
       "      <td>13.0</td>\n",
       "      <td>14.0</td>\n",
       "      <td>15.6</td>\n",
       "      <td>15.6</td>\n",
       "      <td>17.3</td>\n",
       "    </tr>\n",
       "    <tr>\n",
       "      <th>ram</th>\n",
       "      <td>2429.0</td>\n",
       "      <td>18.5986</td>\n",
       "      <td>10.282293</td>\n",
       "      <td>4.0</td>\n",
       "      <td>8.0</td>\n",
       "      <td>16.0</td>\n",
       "      <td>24.0</td>\n",
       "      <td>64.0</td>\n",
       "    </tr>\n",
       "    <tr>\n",
       "      <th>gamer</th>\n",
       "      <td>2429.0</td>\n",
       "      <td>0.293948</td>\n",
       "      <td>0.455662</td>\n",
       "      <td>0.0</td>\n",
       "      <td>0.0</td>\n",
       "      <td>0.0</td>\n",
       "      <td>1.0</td>\n",
       "      <td>1.0</td>\n",
       "    </tr>\n",
       "    <tr>\n",
       "      <th>price</th>\n",
       "      <td>2429.0</td>\n",
       "      <td>2644.13133</td>\n",
       "      <td>1442.931668</td>\n",
       "      <td>629.0</td>\n",
       "      <td>1719.0</td>\n",
       "      <td>2449.0</td>\n",
       "      <td>3149.0</td>\n",
       "      <td>13999.0</td>\n",
       "    </tr>\n",
       "    <tr>\n",
       "      <th>SSD</th>\n",
       "      <td>2429.0</td>\n",
       "      <td>515.056402</td>\n",
       "      <td>209.151385</td>\n",
       "      <td>0.0</td>\n",
       "      <td>512.0</td>\n",
       "      <td>512.0</td>\n",
       "      <td>512.0</td>\n",
       "      <td>2048.0</td>\n",
       "    </tr>\n",
       "    <tr>\n",
       "      <th>HDD</th>\n",
       "      <td>2429.0</td>\n",
       "      <td>20.340881</td>\n",
       "      <td>109.184769</td>\n",
       "      <td>0.0</td>\n",
       "      <td>0.0</td>\n",
       "      <td>0.0</td>\n",
       "      <td>0.0</td>\n",
       "      <td>1024.0</td>\n",
       "    </tr>\n",
       "  </tbody>\n",
       "</table>\n",
       "</div>"
      ],
      "text/plain": [
       "              count        mean          std    min     25%     50%     75%  \\\n",
       "screen_size  2429.0   15.120502     0.858939   13.0    14.0    15.6    15.6   \n",
       "ram          2429.0     18.5986    10.282293    4.0     8.0    16.0    24.0   \n",
       "gamer        2429.0    0.293948     0.455662    0.0     0.0     0.0     1.0   \n",
       "price        2429.0  2644.13133  1442.931668  629.0  1719.0  2449.0  3149.0   \n",
       "SSD          2429.0  515.056402   209.151385    0.0   512.0   512.0   512.0   \n",
       "HDD          2429.0   20.340881   109.184769    0.0     0.0     0.0     0.0   \n",
       "\n",
       "                 max  \n",
       "screen_size     17.3  \n",
       "ram             64.0  \n",
       "gamer            1.0  \n",
       "price        13999.0  \n",
       "SSD           2048.0  \n",
       "HDD           1024.0  "
      ]
     },
     "execution_count": 76,
     "metadata": {},
     "output_type": "execute_result"
    }
   ],
   "source": [
    "combined_data.describe().T"
   ]
  },
  {
   "cell_type": "code",
   "execution_count": 77,
   "id": "ec59b06b",
   "metadata": {
    "scrolled": true
   },
   "outputs": [
    {
     "data": {
      "text/html": [
       "<div>\n",
       "<style scoped>\n",
       "    .dataframe tbody tr th:only-of-type {\n",
       "        vertical-align: middle;\n",
       "    }\n",
       "\n",
       "    .dataframe tbody tr th {\n",
       "        vertical-align: top;\n",
       "    }\n",
       "\n",
       "    .dataframe thead th {\n",
       "        text-align: right;\n",
       "    }\n",
       "</style>\n",
       "<table border=\"1\" class=\"dataframe\">\n",
       "  <thead>\n",
       "    <tr style=\"text-align: right;\">\n",
       "      <th></th>\n",
       "      <th>reference</th>\n",
       "      <th>link</th>\n",
       "      <th>name</th>\n",
       "      <th>brand</th>\n",
       "      <th>image_url</th>\n",
       "      <th>store</th>\n",
       "      <th>screen_size</th>\n",
       "      <th>processor</th>\n",
       "      <th>ram</th>\n",
       "      <th>gpu</th>\n",
       "      <th>os</th>\n",
       "      <th>gamer</th>\n",
       "      <th>price</th>\n",
       "      <th>SSD</th>\n",
       "      <th>HDD</th>\n",
       "    </tr>\n",
       "  </thead>\n",
       "  <tbody>\n",
       "    <tr>\n",
       "      <th>0</th>\n",
       "      <td>X515KA-EJ008</td>\n",
       "      <td>https://agora.tn/fr/pc-portable/16616-pc-porta...</td>\n",
       "      <td>PC PORTABLE ASUS X515KA CELERON N4500U 4GO 256...</td>\n",
       "      <td>Asus</td>\n",
       "      <td>https://agora.tn/fr/46133-home_default/pc-port...</td>\n",
       "      <td>agora</td>\n",
       "      <td>15.6</td>\n",
       "      <td>Intel Celeron</td>\n",
       "      <td>4</td>\n",
       "      <td>Integrated Graphics</td>\n",
       "      <td>FreeDos</td>\n",
       "      <td>0</td>\n",
       "      <td>719.0</td>\n",
       "      <td>256</td>\n",
       "      <td>0</td>\n",
       "    </tr>\n",
       "    <tr>\n",
       "      <th>1</th>\n",
       "      <td>X1504VA-NJ520W</td>\n",
       "      <td>https://agora.tn/fr/pc-portable/15389-pc-porta...</td>\n",
       "      <td>PC PORTABLE ASUS VIVOBOOK 15 X1504VA I3-1315U ...</td>\n",
       "      <td>Asus</td>\n",
       "      <td>https://agora.tn/fr/43259-home_default/pc-port...</td>\n",
       "      <td>agora</td>\n",
       "      <td>15.6</td>\n",
       "      <td>Intel Core i3</td>\n",
       "      <td>4</td>\n",
       "      <td>Integrated Graphics</td>\n",
       "      <td>Windows</td>\n",
       "      <td>0</td>\n",
       "      <td>1049.0</td>\n",
       "      <td>256</td>\n",
       "      <td>0</td>\n",
       "    </tr>\n",
       "    <tr>\n",
       "      <th>2</th>\n",
       "      <td>INS-3535-R5</td>\n",
       "      <td>https://agora.tn/fr/pc-portable/16867-pc-porta...</td>\n",
       "      <td>PC PORTABLE DELL INSPIRON 3535 AMD RAYZEN 5 8G...</td>\n",
       "      <td>Dell</td>\n",
       "      <td>https://agora.tn/fr/46775-home_default/pc-port...</td>\n",
       "      <td>agora</td>\n",
       "      <td>15.6</td>\n",
       "      <td>AMD Ryzen 5</td>\n",
       "      <td>8</td>\n",
       "      <td>AMD</td>\n",
       "      <td>FreeDos</td>\n",
       "      <td>0</td>\n",
       "      <td>1169.0</td>\n",
       "      <td>512</td>\n",
       "      <td>0</td>\n",
       "    </tr>\n",
       "    <tr>\n",
       "      <th>3</th>\n",
       "      <td>X1504VA-NJ814W</td>\n",
       "      <td>https://agora.tn/fr/pc-portable/17170-pc-porta...</td>\n",
       "      <td>PC PORTABLE ASUS VIVOBOOK 15 I3-1315U 8GO 512G...</td>\n",
       "      <td>Asus</td>\n",
       "      <td>https://agora.tn/fr/48086-home_default/pc-port...</td>\n",
       "      <td>agora</td>\n",
       "      <td>15.6</td>\n",
       "      <td>Intel Core i3</td>\n",
       "      <td>8</td>\n",
       "      <td>Integrated Graphics</td>\n",
       "      <td>Windows</td>\n",
       "      <td>0</td>\n",
       "      <td>1189.0</td>\n",
       "      <td>512</td>\n",
       "      <td>0</td>\n",
       "    </tr>\n",
       "    <tr>\n",
       "      <th>5</th>\n",
       "      <td>82VG00NXFG</td>\n",
       "      <td>https://agora.tn/fr/pc-portable/17267-pc-porta...</td>\n",
       "      <td>PC PORTABLE LENOVO IDEAPAD 115AMN7 AMD RZN 5 1...</td>\n",
       "      <td>Lenovo</td>\n",
       "      <td>https://agora.tn/fr/48300-home_default/pc-port...</td>\n",
       "      <td>agora</td>\n",
       "      <td>15.6</td>\n",
       "      <td>AMD Ryzen 5</td>\n",
       "      <td>16</td>\n",
       "      <td>Integrated Graphics</td>\n",
       "      <td>Windows</td>\n",
       "      <td>0</td>\n",
       "      <td>1319.0</td>\n",
       "      <td>512</td>\n",
       "      <td>0</td>\n",
       "    </tr>\n",
       "  </tbody>\n",
       "</table>\n",
       "</div>"
      ],
      "text/plain": [
       "        reference                                               link  \\\n",
       "0    X515KA-EJ008  https://agora.tn/fr/pc-portable/16616-pc-porta...   \n",
       "1  X1504VA-NJ520W  https://agora.tn/fr/pc-portable/15389-pc-porta...   \n",
       "2     INS-3535-R5  https://agora.tn/fr/pc-portable/16867-pc-porta...   \n",
       "3  X1504VA-NJ814W  https://agora.tn/fr/pc-portable/17170-pc-porta...   \n",
       "5      82VG00NXFG  https://agora.tn/fr/pc-portable/17267-pc-porta...   \n",
       "\n",
       "                                                name   brand  \\\n",
       "0  PC PORTABLE ASUS X515KA CELERON N4500U 4GO 256...    Asus   \n",
       "1  PC PORTABLE ASUS VIVOBOOK 15 X1504VA I3-1315U ...    Asus   \n",
       "2  PC PORTABLE DELL INSPIRON 3535 AMD RAYZEN 5 8G...    Dell   \n",
       "3  PC PORTABLE ASUS VIVOBOOK 15 I3-1315U 8GO 512G...    Asus   \n",
       "5  PC PORTABLE LENOVO IDEAPAD 115AMN7 AMD RZN 5 1...  Lenovo   \n",
       "\n",
       "                                           image_url  store  screen_size  \\\n",
       "0  https://agora.tn/fr/46133-home_default/pc-port...  agora         15.6   \n",
       "1  https://agora.tn/fr/43259-home_default/pc-port...  agora         15.6   \n",
       "2  https://agora.tn/fr/46775-home_default/pc-port...  agora         15.6   \n",
       "3  https://agora.tn/fr/48086-home_default/pc-port...  agora         15.6   \n",
       "5  https://agora.tn/fr/48300-home_default/pc-port...  agora         15.6   \n",
       "\n",
       "       processor  ram                  gpu       os  gamer   price  SSD  HDD  \n",
       "0  Intel Celeron    4  Integrated Graphics  FreeDos      0   719.0  256    0  \n",
       "1  Intel Core i3    4  Integrated Graphics  Windows      0  1049.0  256    0  \n",
       "2    AMD Ryzen 5    8                  AMD  FreeDos      0  1169.0  512    0  \n",
       "3  Intel Core i3    8  Integrated Graphics  Windows      0  1189.0  512    0  \n",
       "5    AMD Ryzen 5   16  Integrated Graphics  Windows      0  1319.0  512    0  "
      ]
     },
     "execution_count": 77,
     "metadata": {},
     "output_type": "execute_result"
    }
   ],
   "source": [
    "combined_data.head()"
   ]
  },
  {
   "cell_type": "markdown",
   "id": "b46c66d4",
   "metadata": {},
   "source": [
    "### 💾 Step 6: Save Cleaned Data"
   ]
  },
  {
   "cell_type": "code",
   "execution_count": 78,
   "id": "00329753",
   "metadata": {},
   "outputs": [],
   "source": [
    "new_order = [\n",
    "    'reference', 'link', 'name', 'brand', 'image_url', 'store', 'screen_size', \n",
    "    'processor', 'ram','SSD','HDD' , 'gpu', 'os', 'gamer', 'price'\n",
    "]"
   ]
  },
  {
   "cell_type": "code",
   "execution_count": 79,
   "id": "87e822f8",
   "metadata": {},
   "outputs": [],
   "source": [
    "combined_data = combined_data[new_order]"
   ]
  },
  {
   "cell_type": "code",
   "execution_count": 80,
   "id": "70dc89fb",
   "metadata": {},
   "outputs": [
    {
     "name": "stdout",
     "output_type": "stream",
     "text": [
      "Data saved to tunisia_laptop_prices_2025.csv\n"
     ]
    }
   ],
   "source": [
    "# Save to CSV\n",
    "combined_data.to_csv(\"tunisia_laptop_prices_2025.csv\", index=False, encoding='utf-8-sig')\n",
    "\n",
    "print(\"Data saved to tunisia_laptop_prices_2025.csv\")"
   ]
  },
  {
   "cell_type": "code",
   "execution_count": null,
   "id": "71690e34",
   "metadata": {},
   "outputs": [],
   "source": []
  }
 ],
 "metadata": {
  "kernelspec": {
   "display_name": "Python 3 (ipykernel)",
   "language": "python",
   "name": "python3"
  },
  "language_info": {
   "codemirror_mode": {
    "name": "ipython",
    "version": 3
   },
   "file_extension": ".py",
   "mimetype": "text/x-python",
   "name": "python",
   "nbconvert_exporter": "python",
   "pygments_lexer": "ipython3",
   "version": "3.10.9"
  }
 },
 "nbformat": 4,
 "nbformat_minor": 5
}
