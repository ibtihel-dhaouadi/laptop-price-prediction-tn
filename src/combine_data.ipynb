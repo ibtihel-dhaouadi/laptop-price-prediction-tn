{
 "cells": [
  {
   "cell_type": "markdown",
   "id": "a5211606",
   "metadata": {},
   "source": [
    "Importations"
   ]
  },
  {
   "cell_type": "code",
   "execution_count": 2,
   "id": "85809fde",
   "metadata": {},
   "outputs": [],
   "source": [
    "import pandas as pd\n",
    "import numpy as np\n",
    "import re"
   ]
  },
  {
   "cell_type": "code",
   "execution_count": 3,
   "id": "8e95f3c3",
   "metadata": {},
   "outputs": [],
   "source": [
    "base_url = \"C:/Users/HP/Desktop/laptop_price_prediction_project/src/scrapping_beautifulsoup/\""
   ]
  },
  {
   "cell_type": "code",
   "execution_count": 4,
   "id": "8e9fc3ee",
   "metadata": {},
   "outputs": [],
   "source": [
    "agora_data = pd.read_csv(base_url+'agora_products.csv')\n",
    "batam_data = pd.read_csv(base_url+'batam_products.csv')\n",
    "graiet_data = pd.read_csv(base_url+'graiet_products.csv')\n",
    "mytek_data = pd.read_csv(base_url+'mytek_products.csv')\n",
    "spacenet_data = pd.read_csv(base_url+'spacenet_products.csv')\n",
    "tunisianet_data = pd.read_csv(base_url+'tunisianet_products.csv')"
   ]
  },
  {
   "cell_type": "code",
   "execution_count": 6,
   "id": "91c30f25",
   "metadata": {},
   "outputs": [],
   "source": [
    "new_columns_name = [\n",
    "    'reference', 'link', 'name', 'brand', 'image_url', 'store', 'screen_size', 'screen_resolution', 'processor',\n",
    "    'processor_reference', 'ram', 'disk_capacity', 'disk_type', 'gpu', 'os', 'gamer', 'price'\n",
    "]\n",
    "\n",
    "agora_data.columns = new_columns_name\n",
    "batam_data.columns = new_columns_name\n",
    "graiet_data.columns = new_columns_name\n",
    "mytek_data.columns = new_columns_name\n",
    "spacenet_data.columns = new_columns_name\n",
    "tunisianet_data.columns = new_columns_name"
   ]
  },
  {
   "cell_type": "code",
   "execution_count": 7,
   "id": "a1985296",
   "metadata": {},
   "outputs": [],
   "source": [
    "# List of dataframes\n",
    "dataframes = [agora_data, batam_data, graiet_data, mytek_data, spacenet_data, tunisianet_data]\n",
    "\n",
    "# Concatenate all dataframes vertically (along rows)\n",
    "combined_data = pd.concat(dataframes, ignore_index=True)\n"
   ]
  },
  {
   "cell_type": "code",
   "execution_count": 8,
   "id": "1bcd79f1",
   "metadata": {},
   "outputs": [
    {
     "name": "stdout",
     "output_type": "stream",
     "text": [
      "<class 'pandas.DataFrame'>\n",
      "RangeIndex: 3931 entries, 0 to 3930\n",
      "Data columns (total 17 columns):\n",
      " #   Column               Non-Null Count  Dtype \n",
      "---  ------               --------------  ----- \n",
      " 0   reference            3927 non-null   object\n",
      " 1   link                 3931 non-null   object\n",
      " 2   name                 3931 non-null   object\n",
      " 3   brand                2911 non-null   object\n",
      " 4   image_url            3931 non-null   object\n",
      " 5   store                3931 non-null   object\n",
      " 6   screen_size          3908 non-null   object\n",
      " 7   screen_resolution    1437 non-null   object\n",
      " 8   processor            3922 non-null   object\n",
      " 9   processor_reference  3405 non-null   object\n",
      " 10  ram                  3924 non-null   object\n",
      " 11  disk_capacity        3899 non-null   object\n",
      " 12  disk_type            1888 non-null   object\n",
      " 13  gpu                  3878 non-null   object\n",
      " 14  os                   3930 non-null   object\n",
      " 15  gamer                3190 non-null   object\n",
      " 16  price                3931 non-null   object\n",
      "dtypes: object(17)\n",
      "memory usage: 522.2+ KB\n"
     ]
    }
   ],
   "source": [
    "combined_data.info()"
   ]
  },
  {
   "cell_type": "code",
   "execution_count": 7,
   "id": "fcf9ab56",
   "metadata": {},
   "outputs": [],
   "source": [
    "combined_data = combined_data.drop(['disk_type','screen_resolution','processor_reference'], axis=1)"
   ]
  },
  {
   "cell_type": "code",
   "execution_count": 8,
   "id": "ec59b06b",
   "metadata": {},
   "outputs": [
    {
     "data": {
      "text/html": [
       "<div>\n",
       "<style scoped>\n",
       "    .dataframe tbody tr th:only-of-type {\n",
       "        vertical-align: middle;\n",
       "    }\n",
       "\n",
       "    .dataframe tbody tr th {\n",
       "        vertical-align: top;\n",
       "    }\n",
       "\n",
       "    .dataframe thead th {\n",
       "        text-align: right;\n",
       "    }\n",
       "</style>\n",
       "<table border=\"1\" class=\"dataframe\">\n",
       "  <thead>\n",
       "    <tr style=\"text-align: right;\">\n",
       "      <th></th>\n",
       "      <th>reference</th>\n",
       "      <th>link</th>\n",
       "      <th>name</th>\n",
       "      <th>brand</th>\n",
       "      <th>image_url</th>\n",
       "      <th>store</th>\n",
       "      <th>screen_size</th>\n",
       "      <th>processor</th>\n",
       "      <th>ram</th>\n",
       "      <th>disk_capacity</th>\n",
       "      <th>gpu</th>\n",
       "      <th>os</th>\n",
       "      <th>gamer</th>\n",
       "      <th>price</th>\n",
       "    </tr>\n",
       "  </thead>\n",
       "  <tbody>\n",
       "    <tr>\n",
       "      <th>0</th>\n",
       "      <td>X515KA-EJ008</td>\n",
       "      <td>https://agora.tn/fr/pc-portable/16616-pc-porta...</td>\n",
       "      <td>PC PORTABLE ASUS X515KA CELERON N4500U 4GO 256...</td>\n",
       "      <td>NaN</td>\n",
       "      <td>https://agora.tn/fr/46133-home_default/pc-port...</td>\n",
       "      <td>agora</td>\n",
       "      <td>15.6\"</td>\n",
       "      <td>Intel Celeron-Dual Core</td>\n",
       "      <td>4 Go</td>\n",
       "      <td>256 Go SSD</td>\n",
       "      <td>Graphique Intégrée</td>\n",
       "      <td>FreeDos</td>\n",
       "      <td>Non</td>\n",
       "      <td>719,000 TND</td>\n",
       "    </tr>\n",
       "    <tr>\n",
       "      <th>1</th>\n",
       "      <td>X515KA-EJ008-8</td>\n",
       "      <td>https://agora.tn/fr/pc-portable/16664-pc-porta...</td>\n",
       "      <td>PC PORTABLE ASUS X515KA CELERON N4500U 8GO 256...</td>\n",
       "      <td>NaN</td>\n",
       "      <td>https://agora.tn/fr/46726-home_default/pc-port...</td>\n",
       "      <td>agora</td>\n",
       "      <td>15.6\"</td>\n",
       "      <td>Intel Celeron-Dual Core</td>\n",
       "      <td>8 Go</td>\n",
       "      <td>256 Go SSD</td>\n",
       "      <td>Graphique Intégrée</td>\n",
       "      <td>FreeDos</td>\n",
       "      <td>Non</td>\n",
       "      <td>739,000 TND</td>\n",
       "    </tr>\n",
       "    <tr>\n",
       "      <th>2</th>\n",
       "      <td>X1504VA-NJ520W</td>\n",
       "      <td>https://agora.tn/fr/pc-portable/15389-pc-porta...</td>\n",
       "      <td>PC PORTABLE ASUS VIVOBOOK 15 X1504VA I3-1315U ...</td>\n",
       "      <td>NaN</td>\n",
       "      <td>https://agora.tn/fr/46316-home_default/pc-port...</td>\n",
       "      <td>agora</td>\n",
       "      <td>15.6\"</td>\n",
       "      <td>Intel Core i3</td>\n",
       "      <td>4 Go</td>\n",
       "      <td>256 Go SSD</td>\n",
       "      <td>Graphique Intégrée</td>\n",
       "      <td>Windows</td>\n",
       "      <td>Non</td>\n",
       "      <td>1 049,000 TND</td>\n",
       "    </tr>\n",
       "    <tr>\n",
       "      <th>3</th>\n",
       "      <td>INS-3535-R5</td>\n",
       "      <td>https://agora.tn/fr/pc-portable/16867-pc-porta...</td>\n",
       "      <td>PC PORTABLE DELL INSPIRON 3535 AMD RAYZEN 5 8G...</td>\n",
       "      <td>NaN</td>\n",
       "      <td>https://agora.tn/fr/46775-home_default/pc-port...</td>\n",
       "      <td>agora</td>\n",
       "      <td>15.6\"</td>\n",
       "      <td>AMD RYZEN 5</td>\n",
       "      <td>8 Go</td>\n",
       "      <td>512 Go SSD</td>\n",
       "      <td>AMD Radeon</td>\n",
       "      <td>FreeDos</td>\n",
       "      <td>Non</td>\n",
       "      <td>1 169,000 TND</td>\n",
       "    </tr>\n",
       "    <tr>\n",
       "      <th>4</th>\n",
       "      <td>X1504VA-NJ814W</td>\n",
       "      <td>https://agora.tn/fr/pc-portable/17170-pc-porta...</td>\n",
       "      <td>PC PORTABLE ASUS VIVOBOOK 15 I3-1315U 8GO 512G...</td>\n",
       "      <td>NaN</td>\n",
       "      <td>https://agora.tn/fr/48086-home_default/pc-port...</td>\n",
       "      <td>agora</td>\n",
       "      <td>15.6\"</td>\n",
       "      <td>Intel Core i3</td>\n",
       "      <td>8 Go</td>\n",
       "      <td>512 Go SSD</td>\n",
       "      <td>Graphique Intégrée</td>\n",
       "      <td>Windows 11</td>\n",
       "      <td>Non</td>\n",
       "      <td>1 189,000 TND</td>\n",
       "    </tr>\n",
       "  </tbody>\n",
       "</table>\n",
       "</div>"
      ],
      "text/plain": [
       "        reference                                               link  \\\n",
       "0    X515KA-EJ008  https://agora.tn/fr/pc-portable/16616-pc-porta...   \n",
       "1  X515KA-EJ008-8  https://agora.tn/fr/pc-portable/16664-pc-porta...   \n",
       "2  X1504VA-NJ520W  https://agora.tn/fr/pc-portable/15389-pc-porta...   \n",
       "3     INS-3535-R5  https://agora.tn/fr/pc-portable/16867-pc-porta...   \n",
       "4  X1504VA-NJ814W  https://agora.tn/fr/pc-portable/17170-pc-porta...   \n",
       "\n",
       "                                                name brand  \\\n",
       "0  PC PORTABLE ASUS X515KA CELERON N4500U 4GO 256...   NaN   \n",
       "1  PC PORTABLE ASUS X515KA CELERON N4500U 8GO 256...   NaN   \n",
       "2  PC PORTABLE ASUS VIVOBOOK 15 X1504VA I3-1315U ...   NaN   \n",
       "3  PC PORTABLE DELL INSPIRON 3535 AMD RAYZEN 5 8G...   NaN   \n",
       "4  PC PORTABLE ASUS VIVOBOOK 15 I3-1315U 8GO 512G...   NaN   \n",
       "\n",
       "                                           image_url  store screen_size  \\\n",
       "0  https://agora.tn/fr/46133-home_default/pc-port...  agora       15.6\"   \n",
       "1  https://agora.tn/fr/46726-home_default/pc-port...  agora       15.6\"   \n",
       "2  https://agora.tn/fr/46316-home_default/pc-port...  agora       15.6\"   \n",
       "3  https://agora.tn/fr/46775-home_default/pc-port...  agora       15.6\"   \n",
       "4  https://agora.tn/fr/48086-home_default/pc-port...  agora       15.6\"   \n",
       "\n",
       "                 processor   ram disk_capacity                 gpu  \\\n",
       "0  Intel Celeron-Dual Core  4 Go    256 Go SSD  Graphique Intégrée   \n",
       "1  Intel Celeron-Dual Core  8 Go    256 Go SSD  Graphique Intégrée   \n",
       "2            Intel Core i3  4 Go    256 Go SSD  Graphique Intégrée   \n",
       "3              AMD RYZEN 5  8 Go    512 Go SSD          AMD Radeon   \n",
       "4            Intel Core i3  8 Go    512 Go SSD  Graphique Intégrée   \n",
       "\n",
       "           os gamer          price  \n",
       "0     FreeDos   Non    719,000 TND  \n",
       "1     FreeDos   Non    739,000 TND  \n",
       "2     Windows   Non  1 049,000 TND  \n",
       "3     FreeDos   Non  1 169,000 TND  \n",
       "4  Windows 11   Non  1 189,000 TND  "
      ]
     },
     "execution_count": 8,
     "metadata": {},
     "output_type": "execute_result"
    }
   ],
   "source": [
    "combined_data.head()"
   ]
  },
  {
   "cell_type": "code",
   "execution_count": 9,
   "id": "70dc89fb",
   "metadata": {},
   "outputs": [
    {
     "name": "stdout",
     "output_type": "stream",
     "text": [
      "Data saved to dirty_data.csv\n"
     ]
    }
   ],
   "source": [
    "# Save to CSV\n",
    "combined_data.to_csv(\"dirty_data.csv\", index=False, encoding='utf-8-sig')\n",
    "\n",
    "print(\"Data saved to dirty_data.csv\")"
   ]
  },
  {
   "cell_type": "code",
   "execution_count": 30,
   "id": "12252bd2",
   "metadata": {},
   "outputs": [
    {
     "data": {
      "text/plain": [
       "3931"
      ]
     },
     "execution_count": 30,
     "metadata": {},
     "output_type": "execute_result"
    }
   ],
   "source": [
    "len(combined_data)"
   ]
  },
  {
   "cell_type": "code",
   "execution_count": 20,
   "id": "5886b9a1",
   "metadata": {},
   "outputs": [],
   "source": [
    "clean_data = combined_data.copy()"
   ]
  },
  {
   "cell_type": "code",
   "execution_count": 21,
   "id": "5989f206",
   "metadata": {},
   "outputs": [],
   "source": [
    "# List of possible brand names\n",
    "brand_keywords = ['apple', 'asus', 'dell', 'gigabyte', 'hp', 'lenovo', 'msi', 'schneider', 'thomson', 'acer']\n",
    "\n",
    "# Function to fill missing brand values based on the name column\n",
    "def detect_brand(name):\n",
    "    name = name.lower()\n",
    "    for brand in brand_keywords:\n",
    "        if brand in name:\n",
    "            return brand.capitalize()\n",
    "    return None\n",
    "\n",
    "# Replace 'brand' column with the detected brand for each dataframe\n",
    "clean_data['brand'] = clean_data['name'].apply(detect_brand)"
   ]
  },
  {
   "cell_type": "code",
   "execution_count": 22,
   "id": "6f5360ef",
   "metadata": {},
   "outputs": [],
   "source": [
    "# Function to standardize all screen sizes to inches\n",
    "def remove_text_after_special_chars(text):\n",
    "    if text :\n",
    "        return re.sub(r'[-\\(|\"].*', '', str(text))\n",
    "\n",
    "def standardize_screen_size(text):\n",
    "    text = re.sub(r',', '.', str(text))\n",
    "    text = re.sub(r'[^0-9.]', '', text)\n",
    "    if text == '':\n",
    "        return np.nan\n",
    "    return float(text)\n",
    "    \n",
    "\n",
    "clean_data['screen_size'] = clean_data['screen_size'].apply(remove_text_after_special_chars)\n",
    "\n",
    "clean_data['screen_size'] = clean_data['screen_size'].apply(standardize_screen_size)"
   ]
  },
  {
   "cell_type": "code",
   "execution_count": 23,
   "id": "e8b3cc1c",
   "metadata": {},
   "outputs": [],
   "source": [
    "def remove_text_after_special_chars(text):\n",
    "    if text :\n",
    "        return re.sub(r'[-\\(|].*', '', str(text))\n",
    "\n",
    "def remove_special_characters(text):\n",
    "    if text:\n",
    "        return re.sub(r'[^\\w\\s]', '', text)\n",
    "\n",
    "def remove_invalid_processor_rows(df):\n",
    "    df['processor'] = df['processor'].replace('nan', np.nan)\n",
    "    return df.dropna(subset=['processor'])\n",
    "\n",
    "\n",
    "#remove_text_after_special_chars\n",
    "clean_data['processor'] = clean_data['processor'].apply(remove_text_after_special_chars)\n",
    "\n",
    "#remove_special_characters\n",
    "clean_data['processor'] = clean_data['processor'].apply(remove_special_characters)\n",
    "\n",
    "clean_data = remove_invalid_processor_rows(clean_data)"
   ]
  },
  {
   "cell_type": "code",
   "execution_count": 24,
   "id": "37d12478",
   "metadata": {},
   "outputs": [],
   "source": [
    "def clean_ram_column(text):\n",
    "    if text :\n",
    "        text = re.sub(r',', '.', str(text))\n",
    "        cleaned_text = re.sub(r'\\D', '', str(text)) \n",
    "    return cleaned_text\n",
    "\n",
    "clean_data['ram'] = clean_data['ram'].apply(clean_ram_column)"
   ]
  },
  {
   "cell_type": "code",
   "execution_count": 25,
   "id": "14674307",
   "metadata": {},
   "outputs": [],
   "source": [
    "def add_space(text):\n",
    "    if text :\n",
    "        text = re.sub(r'GO', 'Go', str(text))\n",
    "        text = re.sub(r\"(\\d)([A-Za-z])\", r\"\\1 \\2\", text)\n",
    "    return text\n",
    "\n",
    "clean_data['disk_capacity'] = clean_data['disk_capacity'].apply(add_space)"
   ]
  },
  {
   "cell_type": "code",
   "execution_count": 26,
   "id": "887e4129",
   "metadata": {},
   "outputs": [],
   "source": [
    "def clean_price_column(text):\n",
    "    text = re.sub(r',', '.', str(text))\n",
    "    cleaned_text = re.sub(r'[^\\d.]', '', str(text))\n",
    "    return float(cleaned_text)\n",
    "\n",
    "clean_data['price'] = clean_data['price'].apply(clean_price_column)"
   ]
  },
  {
   "cell_type": "code",
   "execution_count": 27,
   "id": "1c5ae4ef",
   "metadata": {},
   "outputs": [],
   "source": [
    "def remove_invalid_rows(df):\n",
    "    columns_to_check = ['screen_size', 'processor', 'ram', 'disk_capacity', 'gpu', 'os', 'gamer', 'price']\n",
    "    \n",
    "    for col in columns_to_check:\n",
    "        df[col] = df[col].replace('nan', np.nan)\n",
    "\n",
    "    df = df.dropna(subset=columns_to_check)\n",
    "    return df\n",
    "\n",
    "clean_data = remove_invalid_rows(clean_data)"
   ]
  },
  {
   "cell_type": "code",
   "execution_count": 28,
   "id": "32c3f9a0",
   "metadata": {},
   "outputs": [],
   "source": [
    "clean_data = clean_data.drop_duplicates(subset=['store','brand','screen_size', 'processor', 'ram', 'disk_capacity', 'gpu', 'os', 'gamer', 'price'])"
   ]
  },
  {
   "cell_type": "code",
   "execution_count": 29,
   "id": "b7c3479e",
   "metadata": {},
   "outputs": [
    {
     "data": {
      "text/plain": [
       "1890"
      ]
     },
     "execution_count": 29,
     "metadata": {},
     "output_type": "execute_result"
    }
   ],
   "source": [
    "len(clean_data)"
   ]
  },
  {
   "cell_type": "code",
   "execution_count": 137,
   "id": "1e87e967",
   "metadata": {},
   "outputs": [
    {
     "data": {
      "text/html": [
       "<div>\n",
       "<style scoped>\n",
       "    .dataframe tbody tr th:only-of-type {\n",
       "        vertical-align: middle;\n",
       "    }\n",
       "\n",
       "    .dataframe tbody tr th {\n",
       "        vertical-align: top;\n",
       "    }\n",
       "\n",
       "    .dataframe thead th {\n",
       "        text-align: right;\n",
       "    }\n",
       "</style>\n",
       "<table border=\"1\" class=\"dataframe\">\n",
       "  <thead>\n",
       "    <tr style=\"text-align: right;\">\n",
       "      <th></th>\n",
       "      <th>reference</th>\n",
       "      <th>link</th>\n",
       "      <th>name</th>\n",
       "      <th>brand</th>\n",
       "      <th>image_url</th>\n",
       "      <th>store</th>\n",
       "      <th>screen_size</th>\n",
       "      <th>processor</th>\n",
       "      <th>ram</th>\n",
       "      <th>disk_capacity</th>\n",
       "      <th>gpu</th>\n",
       "      <th>os</th>\n",
       "      <th>gamer</th>\n",
       "      <th>price</th>\n",
       "    </tr>\n",
       "  </thead>\n",
       "  <tbody>\n",
       "    <tr>\n",
       "      <th>0</th>\n",
       "      <td>X515KA-EJ008</td>\n",
       "      <td>https://agora.tn/fr/pc-portable/16616-pc-porta...</td>\n",
       "      <td>PC PORTABLE ASUS X515KA CELERON N4500U 4GO 256...</td>\n",
       "      <td>Asus</td>\n",
       "      <td>https://agora.tn/fr/46133-home_default/pc-port...</td>\n",
       "      <td>agora</td>\n",
       "      <td>15.6</td>\n",
       "      <td>Intel Celeron</td>\n",
       "      <td>4</td>\n",
       "      <td>256 Go SSD</td>\n",
       "      <td>Graphique Intégrée</td>\n",
       "      <td>FreeDos</td>\n",
       "      <td>Non</td>\n",
       "      <td>719.0</td>\n",
       "    </tr>\n",
       "    <tr>\n",
       "      <th>1</th>\n",
       "      <td>X515KA-EJ008-8</td>\n",
       "      <td>https://agora.tn/fr/pc-portable/16664-pc-porta...</td>\n",
       "      <td>PC PORTABLE ASUS X515KA CELERON N4500U 8GO 256...</td>\n",
       "      <td>Asus</td>\n",
       "      <td>https://agora.tn/fr/46726-home_default/pc-port...</td>\n",
       "      <td>agora</td>\n",
       "      <td>15.6</td>\n",
       "      <td>Intel Celeron</td>\n",
       "      <td>8</td>\n",
       "      <td>256 Go SSD</td>\n",
       "      <td>Graphique Intégrée</td>\n",
       "      <td>FreeDos</td>\n",
       "      <td>Non</td>\n",
       "      <td>739.0</td>\n",
       "    </tr>\n",
       "  </tbody>\n",
       "</table>\n",
       "</div>"
      ],
      "text/plain": [
       "        reference                                               link  \\\n",
       "0    X515KA-EJ008  https://agora.tn/fr/pc-portable/16616-pc-porta...   \n",
       "1  X515KA-EJ008-8  https://agora.tn/fr/pc-portable/16664-pc-porta...   \n",
       "\n",
       "                                                name brand  \\\n",
       "0  PC PORTABLE ASUS X515KA CELERON N4500U 4GO 256...  Asus   \n",
       "1  PC PORTABLE ASUS X515KA CELERON N4500U 8GO 256...  Asus   \n",
       "\n",
       "                                           image_url  store  screen_size  \\\n",
       "0  https://agora.tn/fr/46133-home_default/pc-port...  agora         15.6   \n",
       "1  https://agora.tn/fr/46726-home_default/pc-port...  agora         15.6   \n",
       "\n",
       "       processor ram disk_capacity                 gpu       os gamer  price  \n",
       "0  Intel Celeron   4    256 Go SSD  Graphique Intégrée  FreeDos   Non  719.0  \n",
       "1  Intel Celeron   8    256 Go SSD  Graphique Intégrée  FreeDos   Non  739.0  "
      ]
     },
     "execution_count": 137,
     "metadata": {},
     "output_type": "execute_result"
    }
   ],
   "source": [
    "clean_data.head(2)"
   ]
  },
  {
   "cell_type": "code",
   "execution_count": 139,
   "id": "7c136046",
   "metadata": {},
   "outputs": [
    {
     "name": "stdout",
     "output_type": "stream",
     "text": [
      "Data saved to clean_data.csv\n"
     ]
    }
   ],
   "source": [
    "# Save to CSV\n",
    "clean_data.to_csv(\"clean_data.csv\", index=False, encoding='utf-8-sig')\n",
    "\n",
    "print(\"Data saved to clean_data.csv\")"
   ]
  }
 ],
 "metadata": {
  "kernelspec": {
   "display_name": "Python 3 (ipykernel)",
   "language": "python",
   "name": "python3"
  },
  "language_info": {
   "codemirror_mode": {
    "name": "ipython",
    "version": 3
   },
   "file_extension": ".py",
   "mimetype": "text/x-python",
   "name": "python",
   "nbconvert_exporter": "python",
   "pygments_lexer": "ipython3",
   "version": "3.10.9"
  }
 },
 "nbformat": 4,
 "nbformat_minor": 5
}
